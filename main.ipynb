{
  "cells": [
    {
      "cell_type": "code",
      "execution_count": null,
      "metadata": {
        "colab": {
          "base_uri": "https://localhost:8080/"
        },
        "id": "liUFTge_qw07",
        "outputId": "96daa2b5-2e40-40af-f8c2-758dda77cd10"
      },
      "outputs": [
        {
          "output_type": "stream",
          "name": "stdout",
          "text": [
            "Collecting transformers\n",
            "  Downloading transformers-4.30.2-py3-none-any.whl (7.2 MB)\n",
            "\u001b[2K     \u001b[90m━━━━━━━━━━━━━━━━━━━━━━━━━━━━━━━━━━━━━━━━\u001b[0m \u001b[32m7.2/7.2 MB\u001b[0m \u001b[31m53.8 MB/s\u001b[0m eta \u001b[36m0:00:00\u001b[0m\n",
            "\u001b[?25hRequirement already satisfied: filelock in /usr/local/lib/python3.10/dist-packages (from transformers) (3.12.2)\n",
            "Collecting huggingface-hub<1.0,>=0.14.1 (from transformers)\n",
            "  Downloading huggingface_hub-0.16.2-py3-none-any.whl (268 kB)\n",
            "\u001b[2K     \u001b[90m━━━━━━━━━━━━━━━━━━━━━━━━━━━━━━━━━━━━━━\u001b[0m \u001b[32m268.5/268.5 kB\u001b[0m \u001b[31m30.6 MB/s\u001b[0m eta \u001b[36m0:00:00\u001b[0m\n",
            "\u001b[?25hRequirement already satisfied: numpy>=1.17 in /usr/local/lib/python3.10/dist-packages (from transformers) (1.22.4)\n",
            "Requirement already satisfied: packaging>=20.0 in /usr/local/lib/python3.10/dist-packages (from transformers) (23.1)\n",
            "Requirement already satisfied: pyyaml>=5.1 in /usr/local/lib/python3.10/dist-packages (from transformers) (6.0)\n",
            "Requirement already satisfied: regex!=2019.12.17 in /usr/local/lib/python3.10/dist-packages (from transformers) (2022.10.31)\n",
            "Requirement already satisfied: requests in /usr/local/lib/python3.10/dist-packages (from transformers) (2.27.1)\n",
            "Collecting tokenizers!=0.11.3,<0.14,>=0.11.1 (from transformers)\n",
            "  Downloading tokenizers-0.13.3-cp310-cp310-manylinux_2_17_x86_64.manylinux2014_x86_64.whl (7.8 MB)\n",
            "\u001b[2K     \u001b[90m━━━━━━━━━━━━━━━━━━━━━━━━━━━━━━━━━━━━━━━━\u001b[0m \u001b[32m7.8/7.8 MB\u001b[0m \u001b[31m78.2 MB/s\u001b[0m eta \u001b[36m0:00:00\u001b[0m\n",
            "\u001b[?25hCollecting safetensors>=0.3.1 (from transformers)\n",
            "  Downloading safetensors-0.3.1-cp310-cp310-manylinux_2_17_x86_64.manylinux2014_x86_64.whl (1.3 MB)\n",
            "\u001b[2K     \u001b[90m━━━━━━━━━━━━━━━━━━━━━━━━━━━━━━━━━━━━━━━━\u001b[0m \u001b[32m1.3/1.3 MB\u001b[0m \u001b[31m53.5 MB/s\u001b[0m eta \u001b[36m0:00:00\u001b[0m\n",
            "\u001b[?25hRequirement already satisfied: tqdm>=4.27 in /usr/local/lib/python3.10/dist-packages (from transformers) (4.65.0)\n",
            "Requirement already satisfied: fsspec in /usr/local/lib/python3.10/dist-packages (from huggingface-hub<1.0,>=0.14.1->transformers) (2023.6.0)\n",
            "Requirement already satisfied: typing-extensions>=3.7.4.3 in /usr/local/lib/python3.10/dist-packages (from huggingface-hub<1.0,>=0.14.1->transformers) (4.6.3)\n",
            "Requirement already satisfied: urllib3<1.27,>=1.21.1 in /usr/local/lib/python3.10/dist-packages (from requests->transformers) (1.26.16)\n",
            "Requirement already satisfied: certifi>=2017.4.17 in /usr/local/lib/python3.10/dist-packages (from requests->transformers) (2023.5.7)\n",
            "Requirement already satisfied: charset-normalizer~=2.0.0 in /usr/local/lib/python3.10/dist-packages (from requests->transformers) (2.0.12)\n",
            "Requirement already satisfied: idna<4,>=2.5 in /usr/local/lib/python3.10/dist-packages (from requests->transformers) (3.4)\n",
            "Installing collected packages: tokenizers, safetensors, huggingface-hub, transformers\n",
            "Successfully installed huggingface-hub-0.16.2 safetensors-0.3.1 tokenizers-0.13.3 transformers-4.30.2\n"
          ]
        }
      ],
      "source": [
        "! pip install transformers"
      ]
    },
    {
      "cell_type": "code",
      "execution_count": null,
      "metadata": {
        "id": "fOMF10pnqli_"
      },
      "outputs": [],
      "source": [
        "import torch\n",
        "import torch.nn as nn\n",
        "from torch.utils.data import DataLoader\n",
        "\n",
        "from sklearn.model_selection import train_test_split\n",
        "from transformers import BertTokenizer, BertForTokenClassification, AdamW\n",
        "from sklearn.metrics import classification_report"
      ]
    },
    {
      "cell_type": "code",
      "source": [
        "ner_data = [\n",
        "    (\"A NANA KWESI SARPONG. 14YRS\", [(\"NANA KWESI SARPONG\", \"NAME\"), (\"14YRS\", \"AGE\")]),\n",
        "    (\"THERESA,KOOMSON,70YRS L-P A AJSPECIALISTSCAN Ref:/Perf ID:FEB Study date: 16 F Study time: 08:09:48 4cm W1024 / C512 CHEST 1001 IMA 1001 S-Value: 2198.000 Zoom factor: x0.99\", [(\"THERESA KOOMSON\", \"NAME\"), (\"70YRS\", \"AGE\"), (\"F\", \"SEX\")]),\n",
        "    (\"JOHN DOE, 45 YEARS OLD, MALE\", [(\"JOHN DOE\", \"NAME\"), (\"45\", \"AGE\"), (\"MALE\", \"SEX\")]),\n",
        "    (\"A. Johanssen. Hosp no. 012345 Date. Today\", [(\"A. Johanssen\", \"NAME\")]),\n",
        "    (\"CHARLES,OBIMPEH,MENSAH,,38YRS Per 4cm W1024 / C512 CHEST Pos 1001 IMA 1001 S-Value: 449.000 Zoom factor\", [(\"CHARLES, OBIMPEH, MENSAH\", \"NAME\"), (\"38YRS\", \"AGE\")]),\n",
        "    (\"SARAH, OWUSU, 25 YEARS OLD, FEMALE\", [(\"SARAH OWUSU\", \"NAME\"), (\"25\", \"AGE\"), (\"FEMALE\", \"SEX\")]),\n",
        "    (\"KOFI ANTWI, 32 YEARS OLD, MALE\", [(\"KOFI ANTWI\", \"NAME\"), (\"32\", \"AGE\"), (\"MALE\", \"SEX\")]),\n",
        "    (\"EMILY ADDO, 28YRS\", [(\"EMILY ADDO\", \"NAME\"), (\"28YRS\", \"AGE\")]),\n",
        "    (\"MATTHEW ASANTE, 37 YEARS OLD, MALE\", [(\"MATTHEW ASANTE\", \"NAME\"), (\"37\", \"AGE\"), (\"MALE\", \"SEX\")]),\n",
        "    (\"LUCY OSEI, 42 YEARS OLD, FEMALE\", [(\"LUCY OSEI\", \"NAME\"), (\"42\", \"AGE\"), (\"FEMALE\", \"SEX\")]),\n",
        "    (\"DANIEL BOATENG, 55YRS M\", [(\"DANIEL BOATENG\", \"NAME\"), (\"55YRS\", \"AGE\"), (\"M\", \"SEX\")]),\n",
        "    (\"JESSICA AMPONSAH, 29 YEARS OLD, FEMALE\", [(\"JESSICA AMPONSAH\", \"NAME\"), (\"29\", \"AGE\"), (\"FEMALE\", \"SEX\")]),\n",
        "    (\"KWADWO MENSAH, 45YRS\", [(\"KWADWO MENSAH\", \"NAME\"), (\"45YRS\", \"AGE\")]),\n",
        "    (\"IRENE OWUSU, 39 YEARS OLD, FEMALE\", [(\"IRENE OWUSU\", \"NAME\"), (\"39\", \"AGE\"), (\"FEMALE\", \"SEX\")]),\n",
        "    (\"ERIC ADU, 33YRS M\", [(\"ERIC ADU\", \"NAME\"), (\"33YRS\", \"AGE\"), (\"M\", \"SEX\")]),\n",
        "    (\"RACHEL AMOAH, 49 YEARS OLD, FEMALE\", [(\"RACHEL AMOAH\", \"NAME\"), (\"49\", \"AGE\"), (\"FEMALE\", \"SEX\")]),\n",
        "    (\"KWAME NTI, 24YRS\", [(\"KWAME NTI\", \"NAME\"), (\"24YRS\", \"AGE\")]),\n",
        "    (\"ELIZABETH ANSAH, 51 YEARS OLD, FEMALE\", [(\"ELIZABETH ANSAH\", \"NAME\"), (\"51\", \"AGE\"), (\"FEMALE\", \"SEX\")]),\n",
        "    (\"ISAAC MENSAH, 30YRS M\", [(\"ISAAC MENSAH\", \"NAME\"), (\"30YRS\", \"AGE\"), (\"M\", \"SEX\")]),\n",
        "    (\"ABENA YEBOAH, 26 YEARS OLD, FEMALE\", [(\"ABENA YEBOAH\", \"NAME\"), (\"26\", \"AGE\"), (\"FEMALE\", \"SEX\")]),\n",
        "    (\"KOFI APPIAH, 43YRS\", [(\"KOFI APPIAH\", \"NAME\"), (\"43YRS\", \"AGE\")]),\n",
        "    (\"ESTHER OPOKU, 36 YEARS OLD, FEMALE\", [(\"ESTHER OPOKU\", \"NAME\"), (\"36\", \"AGE\"), (\"FEMALE\", \"SEX\")]),\n",
        "    (\"MICHAEL AMANKWAH, 22YRS M\", [(\"MICHAEL AMANKWAH\", \"NAME\"), (\"22YRS\", \"AGE\"), (\"M\", \"SEX\")]),\n",
        "    (\"REBECCA ASANTE, 58 YEARS OLD, FEMALE\", [(\"REBECCA ASANTE\", \"NAME\"), (\"58\", \"AGE\"), (\"FEMALE\", \"SEX\")]),\n",
        "    (\"KWASI OSEI, 27YRS\", [(\"KWASI OSEI\", \"NAME\"), (\"27YRS\", \"AGE\")]),\n",
        "    (\"RITA MENSAH, 49 YEARS OLD, FEMALE\", [(\"RITA MENSAH\", \"NAME\"), (\"49\", \"AGE\"), (\"FEMALE\", \"SEX\")]),\n",
        "    (\"FRANCIS BOAKYE, 31YRS M\", [(\"FRANCIS BOAKYE\", \"NAME\"), (\"31YRS\", \"AGE\"), (\"M\", \"SEX\")]),\n",
        "    (\"AGNES OPOKU, 53 YEARS OLD, FEMALE\", [(\"AGNES OPOKU\", \"NAME\"), (\"53\", \"AGE\"), (\"FEMALE\", \"SEX\")]),\n",
        "    (\"KWAME MENSAH, 29YRS\", [(\"KWAME MENSAH\", \"NAME\"), (\"29YRS\", \"AGE\")]),\n",
        "    (\"VICTORIA AMOAH, 47 YEARS OLD, FEMALE\", [(\"VICTORIA AMOAH\", \"NAME\"), (\"47\", \"AGE\"), (\"FEMALE\", \"SEX\")]),\n",
        "    (\"ANDREW AKUFFO, 25YRS M\", [(\"ANDREW AKUFFO\", \"NAME\"), (\"25YRS\", \"AGE\"), (\"M\", \"SEX\")]),\n",
        "    (\"EVELYN YEBOAH, 60 YEARS OLD, FEMALE\", [(\"EVELYN YEBOAH\", \"NAME\"), (\"60\", \"AGE\"), (\"FEMALE\", \"SEX\")]),\n",
        "    (\"CHARLES OBIMPEH MENSAH, 38YRS Per 4cm W1024 / C512 CHEST Pos 1001 IMA 1001 S-Value: 449.000 Zoom factor\", [(\"CHARLES OBIMPEH MENSAH\", \"NAME\"), (\"38YRS\", \"AGE\")]),\n",
        "    (\"SARAH OWUSU, 25 YEARS OLD, FEMALE\", [(\"SARAH OWUSU\", \"NAME\"), (\"25\", \"AGE\"), (\"FEMALE\", \"SEX\")]),\n",
        "    (\"A NANA KWESI SARPONG, 14YRS\", [(\"NANA KWESI SARPONG\", \"NAME\"), (\"14YRS\", \"AGE\")]),\n",
        "    (\"THERESA KOOMSON, 70YRS L-P A AJSPECIALISTSCAN Ref:/Perf ID:FEB Study date: 16 F Study time: 08:09:48 4cm W1024 / C512 CHEST 1001 IMA 1001 S-Value: 2198.000 Zoom factor: x0.99\", [(\"THERESA KOOMSON\", \"NAME\"), (\"70YRS\", \"AGE\"), (\"F\", \"SEX\")]),\n",
        "    (\"JOHN DOE, 45 YEARS OLD, MALE\", [(\"JOHN DOE\", \"NAME\"), (\"45\", \"AGE\"), (\"MALE\", \"SEX\")]),\n",
        "    (\"A. Johanssen. Hosp no. 012345 Date. Today\", [(\"A. Johanssen\", \"NAME\")]),\n",
        "    (\"CHARLES OBIMPEH MENSAH, 38YRS Per 4cm W1024 / C512 CHEST Pos 1001 IMA 1001 S-Value: 449.000 Zoom factor\", [(\"CHARLES OBIMPEH MENSAH\", \"NAME\"), (\"38YRS\", \"AGE\")]),\n",
        "    (\"SARAH OWUSU, 25 YEARS OLD, FEMALE\", [(\"SARAH OWUSU\", \"NAME\"), (\"25\", \"AGE\"), (\"FEMALE\", \"SEX\")]),\n",
        "    (\"JAMES KING, 50YRS M L-P A\", [(\"JAMES KING\", \"NAME\"), (\"50YRS\", \"AGE\"), (\"M\", \"SEX\")]),\n",
        "    (\"JULIA ANDERSON, 32 YEARS OLD, FEMALE\", [(\"JULIA ANDERSON\", \"NAME\"), (\"32\", \"AGE\"), (\"FEMALE\", \"SEX\")]),\n",
        "    (\"DAVID WHITE, 43YRS M L-P A\", [(\"DAVID WHITE\", \"NAME\"), (\"43YRS\", \"AGE\"), (\"M\", \"SEX\")]),\n",
        "    (\"EMILY JONES, 28 YEARS OLD, FEMALE\", [(\"EMILY JONES\", \"NAME\"), (\"28\", \"AGE\"), (\"FEMALE\", \"SEX\")]),\n",
        "    (\"MICHAEL BROWN, 37YRS M L-P A\", [(\"MICHAEL BROWN\", \"NAME\"), (\"37YRS\", \"AGE\"), (\"M\", \"SEX\")]),\n",
        "    (\"EVELYN YEBOAH, 60 YEARS OLD, FEMALE\", [(\"EVELYN YEBOAH\", \"NAME\"), (\"60\", \"AGE\"), (\"FEMALE\", \"SEX\")]),\n",
        "    (\"CHARLES OBIMPEH MENSAH, 38YRS Per 4cm W1024 / C512 CHEST Pos 1001 IMA 1001 S-Value: 449.000 Zoom factor\", [(\"CHARLES OBIMPEH MENSAH\", \"NAME\"), (\"38YRS\", \"AGE\")]),\n",
        "    (\"SARAH OWUSU, 25 YEARS OLD, FEMALE\", [(\"SARAH OWUSU\", \"NAME\"), (\"25\", \"AGE\"), (\"FEMALE\", \"SEX\")]),\n",
        "    (\"A NANA KWESI SARPONG, 14YRS\", [(\"NANA KWESI SARPONG\", \"NAME\"), (\"14YRS\", \"AGE\")]),\n",
        "    (\"THERESA KOOMSON, 70YRS L-P A AJSPECIALISTSCAN Ref:/Perf ID:FEB Study date: 16 F Study time: 08:09:48 4cm W1024 / C512 CHEST 1001 IMA 1001 S-Value: 2198.000 Zoom factor: x0.99\", [(\"THERESA KOOMSON\", \"NAME\"), (\"70YRS\", \"AGE\"), (\"F\", \"SEX\")]),\n",
        "    (\"JOHN DOE, 45 YEARS OLD, MALE\", [(\"JOHN DOE\", \"NAME\"), (\"45\", \"AGE\"), (\"MALE\", \"SEX\")]),\n",
        "    (\"A. Johanssen. Hosp no. 012345 Date. Today\", [(\"A. Johanssen\", \"NAME\")]),\n",
        "    (\"CHARLES OBIMPEH MENSAH, 38YRS Per 4cm W1024 / C512 CHEST Pos 1001 IMA 1001 S-Value: 449.000 Zoom factor\", [(\"CHARLES OBIMPEH MENSAH\", \"NAME\"), (\"38YRS\", \"AGE\")]),\n",
        "    (\"SARAH OWUSU, 25 YEARS OLD, FEMALE\", [(\"SARAH OWUSU\", \"NAME\"), (\"25\", \"AGE\"), (\"FEMALE\", \"SEX\")]),\n",
        "    (\"JAMES KING, 50YRS M L-P A\", [(\"JAMES KING\", \"NAME\"), (\"50YRS\", \"AGE\"), (\"M\", \"SEX\")]),\n",
        "    (\"JULIA ANDERSON, 32 YEARS OLD, FEMALE\", [(\"JULIA ANDERSON\", \"NAME\"), (\"32\", \"AGE\"), (\"FEMALE\", \"SEX\")]),\n",
        "    (\"DAVID WHITE, 43YRS M L-P A\", [(\"DAVID WHITE\", \"NAME\"), (\"43YRS\", \"AGE\"), (\"M\", \"SEX\")]),\n",
        "    (\"EMILY JONES, 28 YEARS OLD, FEMALE\", [(\"EMILY JONES\", \"NAME\"), (\"28\", \"AGE\"), (\"FEMALE\", \"SEX\")]),\n",
        "    (\"MICHAEL BROWN, 37YRS M L-P A\", [(\"MICHAEL BROWN\", \"NAME\"), (\"37YRS\", \"AGE\"), (\"M\", \"SEX\")]),\n",
        "    (\"EVELYN YEBOAH, 60 YEARS OLD, FEMALE\", [(\"EVELYN YEBOAH\", \"NAME\"), (\"60\", \"AGE\"), (\"FEMALE\", \"SEX\")]),\n",
        "    (\"CHARLES OBIMPEH MENSAH, 38YRS Per 4cm W1024 / C512 CHEST Pos 1001 IMA 1001 S-Value: 449.000 Zoom factor\", [(\"CHARLES OBIMPEH MENSAH\", \"NAME\"), (\"38YRS\", \"AGE\")]),\n",
        "    (\"SARAH OWUSU, 25 YEARS OLD, FEMALE\", [(\"SARAH OWUSU\", \"NAME\"), (\"25\", \"AGE\"), (\"FEMALE\", \"SEX\")]),\n",
        "    (\"JAMES KING, 50YRS M L-P A\", [(\"JAMES KING\", \"NAME\"), (\"50YRS\", \"AGE\"), (\"M\", \"SEX\")]),\n",
        "    (\"JULIA ANDERSON, 32 YEARS OLD, FEMALE\", [(\"JULIA ANDERSON\", \"NAME\"), (\"32\", \"AGE\"), (\"FEMALE\", \"SEX\")]),\n",
        "    (\"DAVID WHITE, 43YRS M L-P A\", [(\"DAVID WHITE\", \"NAME\"), (\"43YRS\", \"AGE\"), (\"M\", \"SEX\")]),\n",
        "    (\"EMILY JONES, 28 YEARS OLD, FEMALE\", [(\"EMILY JONES\", \"NAME\"), (\"28\", \"AGE\"), (\"FEMALE\", \"SEX\")]),\n",
        "    (\"MICHAEL BROWN, 37YRS M L-P A\", [(\"MICHAEL BROWN\", \"NAME\"), (\"37YRS\", \"AGE\"), (\"M\", \"SEX\")]),\n",
        "    (\"EVELYN YEBOAH, 60 YEARS OLD, FEMALE\", [(\"EVELYN YEBOAH\", \"NAME\"), (\"60\", \"AGE\"), (\"FEMALE\", \"SEX\")]),\n",
        "    (\"CHARLES OBIMPEH MENSAH, 38YRS Per 4cm W1024 / C512 CHEST Pos 1001 IMA 1001 S-Value: 449.000 Zoom factor\", [(\"CHARLES OBIMPEH MENSAH\", \"NAME\"), (\"38YRS\", \"AGE\")]),\n",
        "    (\"SARAH OWUSU, 25 YEARS OLD, FEMALE\", [(\"SARAH OWUSU\", \"NAME\"), (\"25\", \"AGE\"), (\"FEMALE\", \"SEX\")]),\n",
        "    (\"A NANA KWESI SARPONG, 14YRS\", [(\"NANA KWESI SARPONG\", \"NAME\"), (\"14YRS\", \"AGE\")]),\n",
        "    (\"THERESA KOOMSON, 70YRS L-P A AJSPECIALISTSCAN Ref:/Perf ID:FEB Study date: 16 F Study time: 08:09:48 4cm W1024 / C512 CHEST 1001 IMA 1001 S-Value: 2198.000 Zoom factor: x0.99\", [(\"THERESA KOOMSON\", \"NAME\"), (\"70YRS\", \"AGE\"), (\"F\", \"SEX\")]),\n",
        "    (\"JOHN DOE, 45 YEARS OLD, MALE\", [(\"JOHN DOE\", \"NAME\"), (\"45\", \"AGE\"), (\"MALE\", \"SEX\")]),\n",
        "    (\"A. Johanssen. Hosp no. 012345 Date. Today\", [(\"A. Johanssen\", \"NAME\")]),\n",
        "    (\"CHARLES OBIMPEH MENSAH, 38YRS Per 4cm W1024 / C512 CHEST Pos 1001 IMA 1001 S-Value: 449.000 Zoom factor\", [(\"CHARLES OBIMPEH MENSAH\", \"NAME\"), (\"38YRS\", \"AGE\")]),\n",
        "    (\"SARAH OWUSU, 25 YEARS OLD, FEMALE\", [(\"SARAH OWUSU\", \"NAME\"), (\"25\", \"AGE\"), (\"FEMALE\", \"SEX\")]),\n",
        "    (\"JAMES KING, 50YRS M L-P A\", [(\"JAMES KING\", \"NAME\"), (\"50YRS\", \"AGE\"), (\"M\", \"SEX\")]),\n",
        "    (\"JULIA ANDERSON, 32 YEARS OLD, FEMALE\", [(\"JULIA ANDERSON\", \"NAME\"), (\"32\", \"AGE\"), (\"FEMALE\", \"SEX\")]),\n",
        "    (\"DAVID WHITE, 43YRS M L-P A\", [(\"DAVID WHITE\", \"NAME\"), (\"43YRS\", \"AGE\"), (\"M\", \"SEX\")]),\n",
        "    (\"EMILY JONES, 28 YEARS OLD, FEMALE\", [(\"EMILY JONES\", \"NAME\"), (\"28\", \"AGE\"), (\"FEMALE\", \"SEX\")]),\n",
        "    (\"MICHAEL BROWN, 37YRS M L-P A\", [(\"MICHAEL BROWN\", \"NAME\"), (\"37YRS\", \"AGE\"), (\"M\", \"SEX\")]),\n",
        "    (\"EVELYN YEBOAH, 60 YEARS OLD, FEMALE\", [(\"EVELYN YEBOAH\", \"NAME\"), (\"60\", \"AGE\"), (\"FEMALE\", \"SEX\")]),\n",
        "    (\"CHARLES OBIMPEH MENSAH, 38YRS Per 4cm W1024 / C512 CHEST Pos 1001 IMA 1001 S-Value: 449.000 Zoom factor\", [(\"CHARLES OBIMPEH MENSAH\", \"NAME\"), (\"38YRS\", \"AGE\")]),\n",
        "    (\"SARAH OWUSU, 25 YEARS OLD, FEMALE\", [(\"SARAH OWUSU\",\"NAME\"), (\"25\", \"AGE\"), (\"FEMALE\", \"SEX\")]),\n",
        "    (\"JAMES KING, 50YRS M L-P A\", [(\"JAMES KING\", \"NAME\"), (\"50YRS\", \"AGE\"), (\"M\", \"SEX\")]),\n",
        "    (\"JULIA ANDERSON, 32 YEARS OLD, FEMALE\", [(\"JULIA ANDERSON\", \"NAME\"), (\"32\", \"AGE\"), (\"FEMALE\", \"SEX\")]),\n",
        "    (\"DAVID WHITE, 43YRS M L-P A\", [(\"DAVID WHITE\", \"NAME\"), (\"43YRS\", \"AGE\"), (\"M\", \"SEX\")]),\n",
        "    (\"EMILY JONES, 28 YEARS OLD, FEMALE\", [(\"EMILY JONES\", \"NAME\"), (\"28\", \"AGE\"), (\"FEMALE\", \"SEX\")]),\n",
        "    (\"MICHAEL BROWN, 37YRS M L-P A\", [(\"MICHAEL BROWN\", \"NAME\"), (\"37YRS\", \"AGE\"), (\"M\", \"SEX\")]),\n",
        "    (\"EVELYN YEBOAH, 60 YEARS OLD, FEMALE\", [(\"EVELYN YEBOAH\", \"NAME\"), (\"60\", \"AGE\"), (\"FEMALE\", \"SEX\")]),\n",
        "    (\"CHARLES OBIMPEH MENSAH, 38YRS Per 4cm W1024 / C512 CHEST Pos 1001 IMA 1001 S-Value: 449.000 Zoom factor\", [(\"CHARLES OBIMPEH MENSAH\", \"NAME\"), (\"38YRS\", \"AGE\")]),\n",
        "    (\"SARAH OWUSU, 25 YEARS OLD, FEMALE\", [(\"SARAH OWUSU\", \"NAME\"), (\"25\", \"AGE\"), (\"FEMALE\", \"SEX\")]),\n",
        "    (\"A NANA KWESI SARPONG, 14YRS\", [(\"NANA KWESI SARPONG\", \"NAME\"), (\"14YRS\", \"AGE\")]),\n",
        "    (\"THERESA KOOMSON, 70YRS L-P A AJSPECIALISTSCAN Ref:/Perf ID:FEB Study date: 16 F Study time: 08:09:48 4cm W1024 / C512 CHEST 1001 IMA 1001 S-Value: 2198.000 Zoom factor: x0.99\", [(\"THERESA KOOMSON\", \"NAME\"), (\"70YRS\", \"AGE\"), (\"F\", \"SEX\")]),\n",
        "    (\"JOHN DOE, 45 YEARS OLD, MALE\", [(\"JOHN DOE\", \"NAME\"), (\"45\", \"AGE\"), (\"MALE\", \"SEX\")]),\n",
        "    (\"A. Johanssen. Hosp no. 012345 Date. Today\", [(\"A. Johanssen\", \"NAME\")]),\n",
        "    (\"CHARLES OBIMPEH MENSAH, 38YRS Per 4cm W1024 / C512 CHEST Pos 1001 IMA 1001 S-Value: 449.000 Zoom factor\", [(\"CHARLES OBIMPEH MENSAH\", \"NAME\"), (\"38YRS\", \"AGE\")]),\n",
        "    (\"SARAH OWUSU, 25 YEARS OLD, FEMALE\", [(\"SARAH OWUSU\", \"NAME\"), (\"25\", \"AGE\"), (\"FEMALE\", \"SEX\")]),\n",
        "    (\"JAMES KING, 50YRS M L-P A\", [(\"JAMES KING\", \"NAME\"), (\"50YRS\", \"AGE\"), (\"M\", \"SEX\")]),\n",
        "    (\"JULIA ANDERSON, 32 YEARS OLD, FEMALE\", [(\"JULIA ANDERSON\", \"NAME\"), (\"32\", \"AGE\"), (\"FEMALE\", \"SEX\")]),\n",
        "    (\"DAVID WHITE, 43YRS M L-P A\", [(\"DAVID WHITE\", \"NAME\"), (\"43YRS\", \"AGE\"), (\"M\", \"SEX\")]),\n",
        "    (\"EMILY JONES, 28 YEARS OLD, FEMALE\", [(\"EMILY JONES\", \"NAME\"), (\"28\", \"AGE\"), (\"FEMALE\", \"SEX\")]),\n",
        "    (\"MICHAEL BROWN, 37YRS M L-P A\", [(\"MICHAEL BROWN\", \"NAME\"), (\"37YRS\", \"AGE\"), (\"M\", \"SEX\")]),\n",
        "    (\"EVELYN YEBOAH, 60 YEARS OLD, FEMALE\", [(\"EVELYN YEBOAH\", \"NAME\"), (\"60\", \"AGE\"), (\"FEMALE\", \"SEX\")]),\n",
        "    (\"CHARLES OBIMPEH MENSAH, 38YRS Per 4cm W1024 / C512 CHEST Pos 1001 IMA 1001 S-Value: 449.000 Zoom factor\", [(\"CHARLES OBIMPEH MENSAH\", \"NAME\"), (\"38YRS\", \"AGE\")]),\n",
        "    (\"SARAH OWUSU, 25 YEARS OLD, FEMALE\", [(\"SARAH OWUSU\", \"NAME\"), (\"25\", \"AGE\"), (\"FEMALE\", \"SEX\")]),\n",
        "    (\"JAMES KING, 50YRS M L-P A\", [(\"JAMES KING\", \"NAME\"), (\"50YRS\", \"AGE\"), (\"M\", \"SEX\")]),\n",
        "    (\"JULIA ANDERSON, 32 YEARS OLD, FEMALE\", [(\"JULIA ANDERSON\", \"NAME\"), (\"32\", \"AGE\"), (\"FEMALE\", \"SEX\")]),\n",
        "    (\"DAVID WHITE, 43YRS M L-P A\", [(\"DAVID WHITE\", \"NAME\"), (\"43YRS\", \"AGE\"), (\"M\", \"SEX\")]),\n",
        "    (\"EMILY JONES, 28 YEARS OLD, FEMALE\", [(\"EMILY JONES\", \"NAME\"), (\"28\", \"AGE\"), (\"FEMALE\", \"SEX\")]),\n",
        "    (\"MICHAEL BROWN, 37YRS M L-P A\", [(\"MICHAEL BROWN\", \"NAME\"), (\"37YRS\", \"AGE\"), (\"M\", \"SEX\")]),\n",
        "    (\"EVELYN YEBOAH, 60 YEARS OLD, FEMALE\", [(\"EVELYN YEBOAH\", \"NAME\"), (\"60\", \"AGE\"), (\"FEMALE\", \"SEX\")]),\n",
        "    (\"CHARLES OBIMPEH MENSAH, 38YRS Per 4cm W1024 / C512 CHEST Pos 1001 IMA 1001 S-Value: 449.000 Zoom factor\", [(\"CHARLES OBIMPEH MENSAH\", \"NAME\"), (\"38YRS\", \"AGE\")]),\n",
        "    (\"SARAH OWUSU, 25 YEARS OLD, FEMALE\", [(\"SARAH OWUSU\", \"NAME\"), (\"25\", \"AGE\"), (\"FEMALE\", \"SEX\")]),\n",
        "    (\"A NANA KWESI SARPONG, 14YRS\", [(\"NANA KWESI SARPONG\", \"NAME\"), (\"14YRS\", \"AGE\")]),\n",
        "    (\"THERESA KOOMSON, 70YRS L-P A AJSPECIALISTSCAN Ref:/Perf ID:FEB Study date: 16 F Study time: 08:09:48 4cm W1024 / C512 CHEST 1001 IMA 1001 S-Value: 2198.000 Zoom factor: x0.99\", [(\"THERESA KOOMSON\", \"NAME\"), (\"70YYRS\", \"AGE\"), (\"F\", \"SEX\")]),\n",
        "    (\"JOHN DOE, 45 YEARS OLD, MALE\", [(\"JOHN DOE\", \"NAME\"), (\"45\", \"AGE\"), (\"MALE\", \"SEX\")]),\n",
        "    (\"A. Johanssen. Hosp no. 012345 Date. Today\", [(\"A. Johanssen\", \"NAME\")]),\n",
        "    (\"CHARLES OBIMPEH MENSAH, 38YRS Per 4cm W1024 / C512 CHEST Pos 1001 IMA 1001 S-Value: 449.000 Zoom factor\", [(\"CHARLES OBIMPEH MENSAH\", \"NAME\"), (\"38YRS\", \"AGE\")]),\n",
        "    (\"SARAH OWUSU, 25 YEARS OLD, FEMALE\", [(\"SARAH OWUSU\", \"NAME\"), (\"25\", \"AGE\"), (\"FEMALE\", \"SEX\")]),\n",
        "    (\"JAMES KING, 50YRS M L-P A\", [(\"JAMES KING\", \"NAME\"), (\"50YRS\", \"AGE\"), (\"M\", \"SEX\")]),\n",
        "    (\"JULIA ANDERSON, 32 YEARS OLD, FEMALE\", [(\"JULIA ANDERSON\", \"NAME\"), (\"32\", \"AGE\"), (\"FEMALE\", \"SEX\")]),\n",
        "    (\"DAVID WHITE, 43YRS M L-P A\", [(\"DAVID WHITE\", \"NAME\"), (\"43YRS\", \"AGE\"), (\"M\", \"SEX\")]),\n",
        "    (\"EMILY JONES, 28 YEARS OLD, FEMALE\", [(\"EMILY JONES\", \"NAME\"), (\"28\", \"AGE\"), (\"FEMALE\", \"SEX\")]),\n",
        "    (\"MICHAEL BROWN, 37YRS M L-P A\", [(\"MICHAEL BROWN\", \"NAME\"), (\"37YRS\", \"AGE\"), (\"M\", \"SEX\")]),\n",
        "    (\"EVELYN YEBOAH, 60 YEARS OLD, FEMALE\", [(\"EVELYN YEBOAH\", \"NAME\"), (\"60\", \"AGE\"), (\"FEMALE\", \"SEX\")]),\n",
        "    (\"CHARLES OBIMPEH MENSAH, 38YRS Per 4cm W1024 / C512 CHEST Pos 1001 IMA 1001 S-Value: 449.000 Zoom factor\", [(\"CHARLES OBIMPEH MENSAH\", \"NAME\"), (\"38YRS\", \"AGE\")]),\n",
        "    (\"SARAH OWUSU, 25 YEARS OLD, FEMALE\", [(\"SARAH OWUSU\", \"NAME\"), (\"25\", \"AGE\"), (\"FEMALE\", \"SEX\")]),\n",
        "    (\"A NANA KWESI SARPONG, 14YRS\", [(\"NANA KWESI SARPONG\", \"NAME\"), (\"14YRS\", \"AGE\")]),\n",
        "    (\"THERESA KOOMSON, 70YRS L-P A AJSPECIALISTSCAN Ref:/Perf ID:FEB Study date: 16 F Study time: 08:09:48 4cm W1024 / C512 CHEST 1001 IMA 1001 S-Value: 2198.000 Zoom factor: x0.99\", [(\"THERESA KOOMSON\", \"NAME\"), (\"70YRS\", \"AGE\"), (\"F\", \"SEX\")]),\n",
        "    (\"JOHN DOE, 45 YEARS OLD, MALE\", [(\"JOHN DOE\", \"NAME\"), (\"45\", \"AGE\"), (\"MALE\", \"SEX\")]),\n",
        "    (\"A. Johanssen. Hosp no. 012345 Date. Today\", [(\"A. Johanssen\", \"NAME\")]),\n",
        "    (\"CHARLES OBIMPEH MENSAH, 38YRS Per 4cm W1024 / C512 CHEST Pos 1001 IMA 1001 S-Value: 449.000 Zoom factor\", [(\"CHARLES OBIMPEH MENSAH\", \"NAME\"), (\"38YRS\", \"AGE\")]),\n",
        "    (\"SARAH OWUSU, 25 YEARS OLD, FEMALE\", [(\"SARAH OWUSU\", \"NAME\"), (\"25\", \"AGE\"), (\"FEMALE\", \"SEX\")]),\n",
        "    (\"JAMES KING, 50YRS M L-P A\", [(\"JAMES KING\", \"NAME\"), (\"50YRS\", \"AGE\"), (\"M\", \"SEX\")]),\n",
        "    (\"JULIA ANDERSON, 32 YEARS OLD, FEMALE\", [(\"JULIA ANDERSON\", \"NAME\"), (\"32\", \"AGE\"), (\"FEMALE\", \"SEX\")]),\n",
        "    (\"DAVID WHITE, 43YRS M L-P A\", [(\"DAVID WHITE\", \"NAME\"), (\"43YRS\", \"AGE\"), (\"M\", \"SEX\")]),\n",
        "    (\"EMILY JONES, 28 YEARS OLD, FEMALE\", [(\"EMILY JONES\", \"NAME\"), (\"28\", \"AGE\"), (\"FEMALE\", \"SEX\")]),\n",
        "    (\"MICHAEL BROWN, 37YRS M L-P A\", [(\"MICHAEL BROWN\", \"NAME\"), (\"37YRS\", \"AGE\"), (\"M\", \"SEX\")]),\n",
        "    (\"EVELYN YEBOAH, 60 YEARS OLD, FEMALE\", [(\"EVELYN YEBOAH\", \"NAME\"), (\"60\", \"AGE\"), (\"FEMALE\", \"SEX\")]),\n",
        "    (\"CHARLES OBIMPEH MENSAH, 38YRS Per 4cm W1024 / C512 CHEST Pos 1001 IMA 1001 S-Value: 449.000 Zoom factor\", [(\"CHARLES OBIMPEH MENSAH\", \"NAME\"), (\"38YRS\", \"AGE\")]),\n",
        "    (\"SARAH OWUSU, 25 YEARS OLD, FEMALE\", [(\"SARAH OWUSU\", \"NAME\"), (\"25\", \"AGE\"), (\"FEMALE\", \"SEX\")]),\n",
        "    (\"A NANA KWESI SARPONG, 14YRS\", [(\"NANA KWESI SARPONG\", \"NAME\"), (\"14YRS\", \"AGE\")]),\n",
        "    (\"THERESA KOOMSON, 70YRS L-P A AJSPECIALISTSCAN Ref:/Perf ID:FEB Study date: 16 F Study time: 08:09:48 4cm W1024 / C512 CHEST 1001 IMA 1001 S-Value: 2198.000 Zoom factor: x0.99\", [(\"THERESA KOOMSON\", \"NAME\"), (\"70YRS\", \"AGE\"), (\"F\", \"SEX\")]),\n",
        "    (\"JOHN DOE, 45 YEARS OLD, MALE\", [(\"JOHN DOE\", \"NAME\"), (\"45\", \"AGE\"), (\"MALE\", \"SEX\")]),\n",
        "    (\"A. Johanssen. Hosp no. 012345 Date. Today\", [(\"A. Johanssen\", \"NAME\")]),\n",
        "    (\"CHARLES OBIMPEH MENSAH, 38YRS Per 4cm W1024 / C512 CHEST Pos 1001 IMA 1001 S-Value: 449.000 Zoom factor\", [(\"CHARLES OBIMPEH MENSAH\", \"NAME\"), (\"38YRS\", \"AGE\")]),\n",
        "     (\"JAMES, KING, 50YRS M L-P A\", [(\"JAMES KING\", \"NAME\"), (\"50YRS\", \"AGE\"), (\"M\", \"SEX\")]),\n",
        "    (\"JULIA ANDERSON, 32 YEARS OLD, FEMALE\", [(\"JULIA ANDERSON\", \"NAME\"), (\"32\", \"AGE\"), (\"FEMALE\", \"SEX\")]),\n",
        "    (\"DAVID WHITE, 43YRS M L-P A\", [(\"DAVID WHITE\", \"NAME\"), (\"43YRS\", \"AGE\"), (\"M\", \"SEX\")]),\n",
        "    (\"EMILY JONES, 28 YEARS OLD, FEMALE\", [(\"EMILY JONES\", \"NAME\"), (\"28\", \"AGE\"), (\"FEMALE\", \"SEX\")]),\n",
        "    (\"MICHAEL BROWN, 37YRS M L-P A\", [(\"MICHAEL BROWN\", \"NAME\"), (\"37YRS\", \"AGE\"), (\"M\", \"SEX\")]),\n",
        "    (\"EVELYN YEBOAH, 60 YEARS OLD, FEMALE\", [(\"EVELYN YEBOAH\", \"NAME\"), (\"60\", \"AGE\"), (\"FEMALE\", \"SEX\")]),\n",
        "    (\"CHARLES,OBIMPEH,MENSAH,,38YRS Per 4cm W1024 / C512 CHEST Pos 1001 IMA 1001 S-Value: 449.000 Zoom factor\", [(\"CHARLES OBIMPEH MENSAH\", \"NAME\"), (\"38YRS\", \"AGE\")]),\n",
        "    (\"SARAH, OWUSU, 25 YEARS OLD, FEMALE\", [(\"SARAH OWUSU\", \"NAME\"), (\"25\", \"AGE\"), (\"FEMALE\", \"SEX\")]),\n",
        "    (\"A NANA KWESI SARPONG. 14YRS\", [(\"NANA KWESI SARPONG\", \"NAME\"), (\"14YRS\", \"AGE\")]),\n",
        "    (\"THERESA,KOOMSON,70YRS L-P A AJSPECIALISTSCAN Ref:/Perf ID:FEB Study date: 16 F Study time: 08:09:48 4cm W1024 / C512 CHEST 1001 IMA 1001 S-Value: 2198.000 Zoom factor: x0.99\", [(\"THERESA KOOMSON\", \"NAME\"), (\"70YRS\", \"AGE\"), (\"F\", \"SEX\")]),\n",
        "    (\"JOHN DOE, 45 YEARS OLD, MALE\", [(\"JOHN DOE\", \"NAME\"), (\"45\", \"AGE\"), (\"MALE\", \"SEX\")]),\n",
        "    (\"A. Johanssen. Hosp no. 012345 Date. Today\", [(\"A. Johanssen\", \"NAME\")]),\n",
        "    (\"CHARLES,OBIMPEH,MENSAH,,38YRS Per 4cm W1024 / C512 CHEST Pos 1001 IMA 1001 S-Value: 449.000 Zoom factor\", [(\"CHARLES OBIMPEH MENSAH\", \"NAME\"), (\"38YRS\", \"AGE\")]),\n",
        "    (\"SARAH, OWUSU, 25 YEARS OLD, FEMALE\", [(\"SARAH OWUSU\", \"NAME\"), (\"25\", \"AGE\"), (\"FEMALE\", \"SEX\")]),\n",
        "    (\"JAMES, KING, 50YRS M L-P A\", [(\"JAMES KING\", \"NAME\"), (\"50YRS\", \"AGE\"), (\"M\", \"SEX\")]),\n",
        "    (\"JULIA ANDERSON, 32 YEARS OLD, FEMALE\", [(\"JULIA ANDERSON\", \"NAME\"), (\"32\", \"AGE\"), (\"FEMALE\", \"SEX\")]),\n",
        "    (\"DAVID WHITE, 43YRS M L-P A\", [(\"DAVID WHITE\", \"NAME\"), (\"43YRS\", \"AGE\"), (\"M\", \"SEX\")]),\n",
        "    (\"EMILY JONES, 28 YEARS OLD, FEMALE\", [(\"EMILY JONES\", \"NAME\"), (\"28\", \"AGE\"), (\"FEMALE\", \"SEX\")]),\n",
        "    (\"MICHAEL BROWN, 37YRS M L-P A\", [(\"MICHAEL BROWN\", \"NAME\"), (\"37YRS\", \"AGE\"), (\"M\", \"SEX\")]),\n",
        "    (\"MARY JOHNSON, 55 YEARS OLD, FEMALE\", [(\"MARY JOHNSON\", \"NAME\"), (\"55\", \"AGE\"), (\"FEMALE\", \"SEX\")])\n",
        "]\n",
        "\n",
        "\n",
        "testset = [\n",
        "    (\"ALICE JONES, 35 YEARS OLD, FEMALE\", [(\"ALICE JONES\", \"NAME\"), (\"35\", \"AGE\"), (\"FEMALE\", \"SEX\")]),\n",
        "    (\"PETER SMITH, 42YRS M L-P A\", [(\"PETER SMITH\", \"NAME\"), (\"42YRS\", \"AGE\"), (\"M\", \"SEX\")]),\n",
        "    (\"LUCY WILLIAMS, 28 YEARS OLD, FEMALE\", [(\"LUCY WILLIAMS\", \"NAME\"), (\"28\", \"AGE\"), (\"FEMALE\", \"SEX\")]),\n",
        "    (\"ROBERT JOHNSON, 55YRS M L-P A\", [(\"ROBERT JOHNSON\", \"NAME\"), (\"55YRS\", \"AGE\"), (\"M\", \"SEX\")]),\n",
        "    (\"OLIVIA DAVIS, 31 YEARS OLD, FEMALE\", [(\"OLIVIA DAVIS\", \"NAME\"), (\"31\", \"AGE\"), (\"FEMALE\", \"SEX\")]),\n",
        "    (\"MICHELLE THOMAS, 48YRS F L-P A\", [(\"MICHELLE THOMAS\", \"NAME\"), (\"48YRS\", \"AGE\"), (\"F\", \"SEX\")]),\n",
        "    (\"BRIAN WILSON, 40 YEARS OLD, MALE\", [(\"BRIAN WILSON\", \"NAME\"), (\"40\", \"AGE\"), (\"MALE\", \"SEX\")]),\n",
        "    (\"EMMA HARRIS, 27YRS F L-P A\", [(\"EMMA HARRIS\", \"NAME\"), (\"27YRS\", \"AGE\"), (\"F\", \"SEX\")]),\n",
        "    (\"CHRISTOPHER CLARK, 50 YEARS OLD, MALE\", [(\"CHRISTOPHER CLARK\", \"NAME\"), (\"50\", \"AGE\"), (\"MALE\", \"SEX\")]),\n",
        "    (\"SOPHIA MARTIN, 33YRS F L-P A\", [(\"SOPHIA MARTIN\", \"NAME\"), (\"33YRS\", \"AGE\"), (\"F\", \"SEX\")])\n",
        "]"
      ],
      "metadata": {
        "id": "6zsOr0Ix66Kx"
      },
      "execution_count": null,
      "outputs": []
    },
    {
      "cell_type": "code",
      "execution_count": null,
      "metadata": {
        "colab": {
          "base_uri": "https://localhost:8080/"
        },
        "id": "Jg4zE5C-8kCS",
        "outputId": "bb3a7ae7-6e24-428e-9024-269fdbc88674"
      },
      "outputs": [
        {
          "output_type": "execute_result",
          "data": {
            "text/plain": [
              "167"
            ]
          },
          "metadata": {},
          "execution_count": 107
        }
      ],
      "source": [
        "sentences = [ner_data[i][0] for i in range(len(ner_data))]\n",
        "len(sentences)"
      ]
    },
    {
      "cell_type": "code",
      "source": [
        "trainset, valset = train_test_split(ner_data, test_size = 0.2, random_state=42)"
      ],
      "metadata": {
        "id": "UuUtBxnasSz-"
      },
      "execution_count": null,
      "outputs": []
    },
    {
      "cell_type": "code",
      "source": [
        "tokenizer = BertTokenizer.from_pretrained(\"bert-base-uncased\")\n",
        "\n",
        "def process_dataset(dataset):\n",
        "    processed_data = []\n",
        "    for sentence, entities in dataset:\n",
        "        tokenized_input = tokenizer.tokenize(sentence)\n",
        "        input_ids = tokenizer.convert_tokens_to_ids(tokenized_input)\n",
        "        attention_mask = [1] * len(input_ids)\n",
        "        token_type_ids = [0] * len(input_ids)\n",
        "\n",
        "        entity_labels = ['O'] * len(tokenized_input)\n",
        "\n",
        "        for entity, entity_type in entities:\n",
        "            entity_tokens = tokenizer.tokenize(entity)\n",
        "            entity_start = 0\n",
        "            for i in range(len(tokenized_input)):\n",
        "                if tokenized_input[i:i+len(entity_tokens)] == entity_tokens:\n",
        "                    entity_labels[i] = 'B-' + entity_type\n",
        "                    entity_start = i\n",
        "                    for j in range(i+1, i+len(entity_tokens)):\n",
        "                        entity_labels[j] = 'I-' + entity_type\n",
        "                    break\n",
        "        example = {\n",
        "            \"input_ids\": input_ids,\n",
        "            \"attention_mask\": attention_mask,\n",
        "            \"token_type_ids\": token_type_ids,\n",
        "            \"labels\": entity_labels\n",
        "        }\n",
        "        processed_data.append(example)\n",
        "    return processed_data\n",
        "\n",
        "formatted_trainset = process_dataset(trainset)\n",
        "formatted_valset = process_dataset(valset)\n"
      ],
      "metadata": {
        "id": "njlVnslUTGwm"
      },
      "execution_count": null,
      "outputs": []
    },
    {
      "cell_type": "code",
      "source": [
        "label_map = {'O': 0, 'B-NAME': 1, 'I-NAME': 2, 'B-AGE': 3, 'I-AGE': 4, 'B-SEX': 5, 'I-SEX': 6}"
      ],
      "metadata": {
        "id": "MZPg37rk3jL2"
      },
      "execution_count": null,
      "outputs": []
    },
    {
      "cell_type": "code",
      "source": [
        "import torch\n",
        "from torch.utils.data import DataLoader\n",
        "from torch.nn.utils.rnn import pad_sequence\n",
        "from transformers import BertForTokenClassification, AdamW\n",
        "from tqdm import tqdm\n",
        "\n",
        "# Define the model configuration\n",
        "model_name = \"bert-base-uncased\"\n",
        "num_labels = 7  # Number of NER labels (excluding 'O')\n",
        "\n",
        "# Load the pre-trained BERT model for token classification\n",
        "model = BertForTokenClassification.from_pretrained(model_name, num_labels=num_labels)\n",
        "\n",
        "# Set up the optimizer\n",
        "optimizer = AdamW(model.parameters(), lr=2e-5)\n",
        "\n",
        "# Convert the processed data into PyTorch DataLoader\n",
        "train_dataloader = DataLoader(formatted_trainset, batch_size=16, shuffle=True, collate_fn=lambda x: dict(\n",
        "    input_ids=pad_sequence([torch.tensor(example['input_ids']) for example in x], batch_first=True),\n",
        "    attention_mask=pad_sequence([torch.tensor(example['attention_mask']) for example in x], batch_first=True),\n",
        "    labels=pad_sequence([torch.tensor([label_map[label] for label in example['labels']]) for example in x], batch_first=True)\n",
        "))\n",
        "val_dataloader = DataLoader(formatted_valset, batch_size=32, shuffle=False, collate_fn=lambda x: dict(\n",
        "    input_ids=pad_sequence([torch.tensor(example['input_ids']) for example in x], batch_first=True),\n",
        "    attention_mask=pad_sequence([torch.tensor(example['attention_mask']) for example in x], batch_first=True),\n",
        "    labels=pad_sequence([torch.tensor([label_map[label] for label in example['labels']]) for example in x], batch_first=True)\n",
        "))\n",
        "\n",
        "# Set the device to GPU if available\n",
        "device = torch.device(\"cuda\" if torch.cuda.is_available() else \"cpu\")\n",
        "model.to(device)\n",
        "\n",
        "# Training loop\n",
        "num_epochs = 200\n",
        "for epoch in range(num_epochs):\n",
        "    model.train()\n",
        "    train_loss = 0.0\n",
        "\n",
        "    # Iterate over the training dataloader\n",
        "    for batch in tqdm(train_dataloader, desc=\"Epoch {}\".format(epoch + 1)):\n",
        "        # Move batch tensors to the correct device\n",
        "        input_ids = batch[\"input_ids\"].to(device)\n",
        "        attention_mask = batch[\"attention_mask\"].to(device)\n",
        "        labels = batch[\"labels\"].to(device)\n",
        "\n",
        "        # Zero the gradients\n",
        "        optimizer.zero_grad()\n",
        "\n",
        "        # Forward pass\n",
        "        outputs = model(input_ids=input_ids, attention_mask=attention_mask, labels=labels)\n",
        "        loss = outputs.loss\n",
        "\n",
        "        # Backward pass and optimization\n",
        "        loss.backward()\n",
        "        optimizer.step()\n",
        "\n",
        "        train_loss += loss.item()\n",
        "\n",
        "    # Validation loop\n",
        "    model.eval()\n",
        "    val_loss = 0.0\n",
        "\n",
        "    with torch.no_grad():\n",
        "        for batch in tqdm(val_dataloader, desc=\"Validation\"):\n",
        "            input_ids = batch[\"input_ids\"].to(device)\n",
        "            attention_mask = batch[\"attention_mask\"].to(device)\n",
        "            labels = batch[\"labels\"].to(device)\n",
        "\n",
        "            outputs = model(input_ids=input_ids, attention_mask=attention_mask, labels=labels)\n",
        "            loss = outputs.loss\n",
        "\n",
        "            val_loss += loss.item()\n",
        "\n",
        "    # Calculate average loss\n",
        "    train_loss /= len(train_dataloader)\n",
        "    val_loss /= len(val_dataloader)\n",
        "\n",
        "    print(\"Epoch {} - Train Loss: {:.4f} - Val Loss: {:.4f}\".format(epoch + 1, train_loss, val_loss))"
      ],
      "metadata": {
        "id": "eBRQCfr4Uy3x",
        "colab": {
          "base_uri": "https://localhost:8080/"
        },
        "outputId": "20585314-3b4e-4dc6-c4b5-142d95224c47"
      },
      "execution_count": null,
      "outputs": [
        {
          "metadata": {
            "tags": null
          },
          "name": "stderr",
          "output_type": "stream",
          "text": [
            "Some weights of the model checkpoint at bert-base-uncased were not used when initializing BertForTokenClassification: ['cls.seq_relationship.bias', 'cls.predictions.transform.LayerNorm.weight', 'cls.predictions.transform.dense.bias', 'cls.seq_relationship.weight', 'cls.predictions.transform.LayerNorm.bias', 'cls.predictions.bias', 'cls.predictions.transform.dense.weight']\n",
            "- This IS expected if you are initializing BertForTokenClassification from the checkpoint of a model trained on another task or with another architecture (e.g. initializing a BertForSequenceClassification model from a BertForPreTraining model).\n",
            "- This IS NOT expected if you are initializing BertForTokenClassification from the checkpoint of a model that you expect to be exactly identical (initializing a BertForSequenceClassification model from a BertForSequenceClassification model).\n",
            "Some weights of BertForTokenClassification were not initialized from the model checkpoint at bert-base-uncased and are newly initialized: ['classifier.weight', 'classifier.bias']\n",
            "You should probably TRAIN this model on a down-stream task to be able to use it for predictions and inference.\n",
            "/usr/local/lib/python3.10/dist-packages/transformers/optimization.py:411: FutureWarning: This implementation of AdamW is deprecated and will be removed in a future version. Use the PyTorch implementation torch.optim.AdamW instead, or set `no_deprecation_warning=True` to disable this warning\n",
            "  warnings.warn(\n",
            "Epoch 1: 100%|██████████| 9/9 [01:25<00:00,  9.47s/it]\n",
            "Validation: 100%|██████████| 2/2 [00:03<00:00,  1.79s/it]\n"
          ]
        },
        {
          "metadata": {
            "tags": null
          },
          "name": "stdout",
          "output_type": "stream",
          "text": [
            "Epoch 1 - Train Loss: 1.2353 - Val Loss: 1.1424\n"
          ]
        },
        {
          "metadata": {
            "tags": null
          },
          "name": "stderr",
          "output_type": "stream",
          "text": [
            "Epoch 2: 100%|██████████| 9/9 [01:20<00:00,  8.99s/it]\n",
            "Validation: 100%|██████████| 2/2 [00:03<00:00,  1.81s/it]\n"
          ]
        },
        {
          "metadata": {
            "tags": null
          },
          "name": "stdout",
          "output_type": "stream",
          "text": [
            "Epoch 2 - Train Loss: 0.5176 - Val Loss: 1.2770\n"
          ]
        },
        {
          "metadata": {
            "tags": null
          },
          "name": "stderr",
          "output_type": "stream",
          "text": [
            "Epoch 3: 100%|██████████| 9/9 [01:17<00:00,  8.59s/it]\n",
            "Validation: 100%|██████████| 2/2 [00:04<00:00,  2.38s/it]\n"
          ]
        },
        {
          "metadata": {
            "tags": null
          },
          "name": "stdout",
          "output_type": "stream",
          "text": [
            "Epoch 3 - Train Loss: 0.5495 - Val Loss: 1.0907\n"
          ]
        },
        {
          "metadata": {
            "tags": null
          },
          "name": "stderr",
          "output_type": "stream",
          "text": [
            "Epoch 4: 100%|██████████| 9/9 [01:19<00:00,  8.87s/it]\n",
            "Validation: 100%|██████████| 2/2 [00:05<00:00,  2.61s/it]\n"
          ]
        },
        {
          "metadata": {
            "tags": null
          },
          "name": "stdout",
          "output_type": "stream",
          "text": [
            "Epoch 4 - Train Loss: 0.5250 - Val Loss: 1.0765\n"
          ]
        },
        {
          "metadata": {
            "tags": null
          },
          "name": "stderr",
          "output_type": "stream",
          "text": [
            "Epoch 5: 100%|██████████| 9/9 [01:17<00:00,  8.60s/it]\n",
            "Validation: 100%|██████████| 2/2 [00:03<00:00,  1.95s/it]\n"
          ]
        },
        {
          "metadata": {
            "tags": null
          },
          "name": "stdout",
          "output_type": "stream",
          "text": [
            "Epoch 5 - Train Loss: 0.3891 - Val Loss: 0.7930\n"
          ]
        },
        {
          "metadata": {
            "tags": null
          },
          "name": "stderr",
          "output_type": "stream",
          "text": [
            "Epoch 6: 100%|██████████| 9/9 [01:12<00:00,  8.08s/it]\n",
            "Validation: 100%|██████████| 2/2 [00:04<00:00,  2.22s/it]\n"
          ]
        },
        {
          "metadata": {
            "tags": null
          },
          "name": "stdout",
          "output_type": "stream",
          "text": [
            "Epoch 6 - Train Loss: 0.4440 - Val Loss: 0.6123\n"
          ]
        },
        {
          "metadata": {
            "tags": null
          },
          "name": "stderr",
          "output_type": "stream",
          "text": [
            "Epoch 7: 100%|██████████| 9/9 [01:15<00:00,  8.43s/it]\n",
            "Validation: 100%|██████████| 2/2 [00:03<00:00,  1.86s/it]\n"
          ]
        },
        {
          "metadata": {
            "tags": null
          },
          "name": "stdout",
          "output_type": "stream",
          "text": [
            "Epoch 7 - Train Loss: 0.2870 - Val Loss: 0.4992\n"
          ]
        },
        {
          "metadata": {
            "tags": null
          },
          "name": "stderr",
          "output_type": "stream",
          "text": [
            "Epoch 8: 100%|██████████| 9/9 [01:25<00:00,  9.45s/it]\n",
            "Validation: 100%|██████████| 2/2 [00:04<00:00,  2.46s/it]\n"
          ]
        },
        {
          "metadata": {
            "tags": null
          },
          "name": "stdout",
          "output_type": "stream",
          "text": [
            "Epoch 8 - Train Loss: 0.1860 - Val Loss: 0.4128\n"
          ]
        },
        {
          "metadata": {
            "tags": null
          },
          "name": "stderr",
          "output_type": "stream",
          "text": [
            "Epoch 9: 100%|██████████| 9/9 [01:07<00:00,  7.46s/it]\n",
            "Validation: 100%|██████████| 2/2 [00:03<00:00,  1.77s/it]\n"
          ]
        },
        {
          "metadata": {
            "tags": null
          },
          "name": "stdout",
          "output_type": "stream",
          "text": [
            "Epoch 9 - Train Loss: 0.2516 - Val Loss: 0.3397\n"
          ]
        },
        {
          "metadata": {
            "tags": null
          },
          "name": "stderr",
          "output_type": "stream",
          "text": [
            "Epoch 10: 100%|██████████| 9/9 [01:21<00:00,  9.08s/it]\n",
            "Validation: 100%|██████████| 2/2 [00:03<00:00,  1.88s/it]\n"
          ]
        },
        {
          "metadata": {
            "tags": null
          },
          "name": "stdout",
          "output_type": "stream",
          "text": [
            "Epoch 10 - Train Loss: 0.1569 - Val Loss: 0.2354\n"
          ]
        },
        {
          "metadata": {
            "tags": null
          },
          "name": "stderr",
          "output_type": "stream",
          "text": [
            "Epoch 11: 100%|██████████| 9/9 [01:20<00:00,  8.95s/it]\n",
            "Validation: 100%|██████████| 2/2 [00:04<00:00,  2.18s/it]\n"
          ]
        },
        {
          "metadata": {
            "tags": null
          },
          "name": "stdout",
          "output_type": "stream",
          "text": [
            "Epoch 11 - Train Loss: 0.1034 - Val Loss: 0.1699\n"
          ]
        },
        {
          "metadata": {
            "tags": null
          },
          "name": "stderr",
          "output_type": "stream",
          "text": [
            "Epoch 12: 100%|██████████| 9/9 [01:16<00:00,  8.53s/it]\n",
            "Validation: 100%|██████████| 2/2 [00:04<00:00,  2.03s/it]\n"
          ]
        },
        {
          "metadata": {
            "tags": null
          },
          "name": "stdout",
          "output_type": "stream",
          "text": [
            "Epoch 12 - Train Loss: 0.0934 - Val Loss: 0.0962\n"
          ]
        },
        {
          "metadata": {
            "tags": null
          },
          "name": "stderr",
          "output_type": "stream",
          "text": [
            "Epoch 13: 100%|██████████| 9/9 [01:22<00:00,  9.13s/it]\n",
            "Validation: 100%|██████████| 2/2 [00:03<00:00,  1.81s/it]\n"
          ]
        },
        {
          "metadata": {
            "tags": null
          },
          "name": "stdout",
          "output_type": "stream",
          "text": [
            "Epoch 13 - Train Loss: 0.0705 - Val Loss: 0.0747\n"
          ]
        },
        {
          "metadata": {
            "tags": null
          },
          "name": "stderr",
          "output_type": "stream",
          "text": [
            "Epoch 14: 100%|██████████| 9/9 [01:12<00:00,  8.00s/it]\n",
            "Validation: 100%|██████████| 2/2 [00:03<00:00,  1.77s/it]\n"
          ]
        },
        {
          "metadata": {
            "tags": null
          },
          "name": "stdout",
          "output_type": "stream",
          "text": [
            "Epoch 14 - Train Loss: 0.0656 - Val Loss: 0.0408\n"
          ]
        },
        {
          "metadata": {
            "tags": null
          },
          "name": "stderr",
          "output_type": "stream",
          "text": [
            "Epoch 15: 100%|██████████| 9/9 [01:17<00:00,  8.57s/it]\n",
            "Validation: 100%|██████████| 2/2 [00:03<00:00,  1.76s/it]\n"
          ]
        },
        {
          "metadata": {
            "tags": null
          },
          "name": "stdout",
          "output_type": "stream",
          "text": [
            "Epoch 15 - Train Loss: 0.0448 - Val Loss: 0.0260\n"
          ]
        },
        {
          "metadata": {
            "tags": null
          },
          "name": "stderr",
          "output_type": "stream",
          "text": [
            "Epoch 16: 100%|██████████| 9/9 [01:19<00:00,  8.87s/it]\n",
            "Validation: 100%|██████████| 2/2 [00:03<00:00,  1.79s/it]\n"
          ]
        },
        {
          "metadata": {
            "tags": null
          },
          "name": "stdout",
          "output_type": "stream",
          "text": [
            "Epoch 16 - Train Loss: 0.0289 - Val Loss: 0.0145\n"
          ]
        },
        {
          "metadata": {
            "tags": null
          },
          "name": "stderr",
          "output_type": "stream",
          "text": [
            "Epoch 17: 100%|██████████| 9/9 [01:20<00:00,  9.00s/it]\n",
            "Validation: 100%|██████████| 2/2 [00:04<00:00,  2.41s/it]\n"
          ]
        },
        {
          "metadata": {
            "tags": null
          },
          "name": "stdout",
          "output_type": "stream",
          "text": [
            "Epoch 17 - Train Loss: 0.0214 - Val Loss: 0.0103\n"
          ]
        },
        {
          "metadata": {
            "tags": null
          },
          "name": "stderr",
          "output_type": "stream",
          "text": [
            "Epoch 18: 100%|██████████| 9/9 [01:09<00:00,  7.68s/it]\n",
            "Validation: 100%|██████████| 2/2 [00:03<00:00,  1.78s/it]\n"
          ]
        },
        {
          "metadata": {
            "tags": null
          },
          "name": "stdout",
          "output_type": "stream",
          "text": [
            "Epoch 18 - Train Loss: 0.0300 - Val Loss: 0.0094\n"
          ]
        },
        {
          "metadata": {
            "tags": null
          },
          "name": "stderr",
          "output_type": "stream",
          "text": [
            "Epoch 19: 100%|██████████| 9/9 [01:19<00:00,  8.82s/it]\n",
            "Validation: 100%|██████████| 2/2 [00:03<00:00,  1.74s/it]\n"
          ]
        },
        {
          "metadata": {
            "tags": null
          },
          "name": "stdout",
          "output_type": "stream",
          "text": [
            "Epoch 19 - Train Loss: 0.0218 - Val Loss: 0.0070\n"
          ]
        },
        {
          "metadata": {
            "tags": null
          },
          "name": "stderr",
          "output_type": "stream",
          "text": [
            "Epoch 20: 100%|██████████| 9/9 [01:21<00:00,  9.00s/it]\n",
            "Validation: 100%|██████████| 2/2 [00:04<00:00,  2.45s/it]\n"
          ]
        },
        {
          "metadata": {
            "tags": null
          },
          "name": "stdout",
          "output_type": "stream",
          "text": [
            "Epoch 20 - Train Loss: 0.0196 - Val Loss: 0.0111\n"
          ]
        },
        {
          "metadata": {
            "tags": null
          },
          "name": "stderr",
          "output_type": "stream",
          "text": [
            "Epoch 21: 100%|██████████| 9/9 [01:15<00:00,  8.36s/it]\n",
            "Validation: 100%|██████████| 2/2 [00:04<00:00,  2.40s/it]\n"
          ]
        },
        {
          "metadata": {
            "tags": null
          },
          "name": "stdout",
          "output_type": "stream",
          "text": [
            "Epoch 21 - Train Loss: 0.0157 - Val Loss: 0.0057\n"
          ]
        },
        {
          "metadata": {
            "tags": null
          },
          "name": "stderr",
          "output_type": "stream",
          "text": [
            "Epoch 22: 100%|██████████| 9/9 [01:14<00:00,  8.26s/it]\n",
            "Validation: 100%|██████████| 2/2 [00:04<00:00,  2.44s/it]\n"
          ]
        },
        {
          "metadata": {
            "tags": null
          },
          "name": "stdout",
          "output_type": "stream",
          "text": [
            "Epoch 22 - Train Loss: 0.0145 - Val Loss: 0.0042\n"
          ]
        },
        {
          "metadata": {
            "tags": null
          },
          "name": "stderr",
          "output_type": "stream",
          "text": [
            "Epoch 23: 100%|██████████| 9/9 [01:10<00:00,  7.82s/it]\n",
            "Validation: 100%|██████████| 2/2 [00:03<00:00,  1.82s/it]\n"
          ]
        },
        {
          "metadata": {
            "tags": null
          },
          "name": "stdout",
          "output_type": "stream",
          "text": [
            "Epoch 23 - Train Loss: 0.0162 - Val Loss: 0.0037\n"
          ]
        },
        {
          "metadata": {
            "tags": null
          },
          "name": "stderr",
          "output_type": "stream",
          "text": [
            "Epoch 24: 100%|██████████| 9/9 [01:18<00:00,  8.71s/it]\n",
            "Validation: 100%|██████████| 2/2 [00:03<00:00,  1.84s/it]\n"
          ]
        },
        {
          "metadata": {
            "tags": null
          },
          "name": "stdout",
          "output_type": "stream",
          "text": [
            "Epoch 24 - Train Loss: 0.0124 - Val Loss: 0.0035\n"
          ]
        },
        {
          "metadata": {
            "tags": null
          },
          "name": "stderr",
          "output_type": "stream",
          "text": [
            "Epoch 25: 100%|██████████| 9/9 [01:20<00:00,  8.92s/it]\n",
            "Validation: 100%|██████████| 2/2 [00:04<00:00,  2.34s/it]\n"
          ]
        },
        {
          "metadata": {
            "tags": null
          },
          "name": "stdout",
          "output_type": "stream",
          "text": [
            "Epoch 25 - Train Loss: 0.0101 - Val Loss: 0.0030\n"
          ]
        },
        {
          "metadata": {
            "tags": null
          },
          "name": "stderr",
          "output_type": "stream",
          "text": [
            "Epoch 26: 100%|██████████| 9/9 [01:10<00:00,  7.83s/it]\n",
            "Validation: 100%|██████████| 2/2 [00:03<00:00,  1.82s/it]\n"
          ]
        },
        {
          "metadata": {
            "tags": null
          },
          "name": "stdout",
          "output_type": "stream",
          "text": [
            "Epoch 26 - Train Loss: 0.0119 - Val Loss: 0.0028\n"
          ]
        },
        {
          "metadata": {
            "tags": null
          },
          "name": "stderr",
          "output_type": "stream",
          "text": [
            "Epoch 27: 100%|██████████| 9/9 [01:19<00:00,  8.89s/it]\n",
            "Validation: 100%|██████████| 2/2 [00:04<00:00,  2.41s/it]\n"
          ]
        },
        {
          "metadata": {
            "tags": null
          },
          "name": "stdout",
          "output_type": "stream",
          "text": [
            "Epoch 27 - Train Loss: 0.0088 - Val Loss: 0.0025\n"
          ]
        },
        {
          "metadata": {
            "tags": null
          },
          "name": "stderr",
          "output_type": "stream",
          "text": [
            "Epoch 28: 100%|██████████| 9/9 [01:21<00:00,  9.01s/it]\n",
            "Validation: 100%|██████████| 2/2 [00:03<00:00,  1.82s/it]\n"
          ]
        },
        {
          "metadata": {
            "tags": null
          },
          "name": "stdout",
          "output_type": "stream",
          "text": [
            "Epoch 28 - Train Loss: 0.0086 - Val Loss: 0.0024\n"
          ]
        },
        {
          "metadata": {
            "tags": null
          },
          "name": "stderr",
          "output_type": "stream",
          "text": [
            "Epoch 29: 100%|██████████| 9/9 [01:10<00:00,  7.83s/it]\n",
            "Validation: 100%|██████████| 2/2 [00:04<00:00,  2.43s/it]\n"
          ]
        },
        {
          "metadata": {
            "tags": null
          },
          "name": "stdout",
          "output_type": "stream",
          "text": [
            "Epoch 29 - Train Loss: 0.0103 - Val Loss: 0.0023\n"
          ]
        },
        {
          "metadata": {
            "tags": null
          },
          "name": "stderr",
          "output_type": "stream",
          "text": [
            "Epoch 30: 100%|██████████| 9/9 [01:08<00:00,  7.66s/it]\n",
            "Validation: 100%|██████████| 2/2 [00:03<00:00,  1.77s/it]\n"
          ]
        },
        {
          "metadata": {
            "tags": null
          },
          "name": "stdout",
          "output_type": "stream",
          "text": [
            "Epoch 30 - Train Loss: 0.0108 - Val Loss: 0.0021\n"
          ]
        },
        {
          "metadata": {
            "tags": null
          },
          "name": "stderr",
          "output_type": "stream",
          "text": [
            "Epoch 31: 100%|██████████| 9/9 [01:16<00:00,  8.49s/it]\n",
            "Validation: 100%|██████████| 2/2 [00:03<00:00,  1.73s/it]\n"
          ]
        },
        {
          "metadata": {
            "tags": null
          },
          "name": "stdout",
          "output_type": "stream",
          "text": [
            "Epoch 31 - Train Loss: 0.0086 - Val Loss: 0.0019\n"
          ]
        },
        {
          "metadata": {
            "tags": null
          },
          "name": "stderr",
          "output_type": "stream",
          "text": [
            "Epoch 32: 100%|██████████| 9/9 [01:17<00:00,  8.57s/it]\n",
            "Validation: 100%|██████████| 2/2 [00:03<00:00,  1.80s/it]\n"
          ]
        },
        {
          "metadata": {
            "tags": null
          },
          "name": "stdout",
          "output_type": "stream",
          "text": [
            "Epoch 32 - Train Loss: 0.0120 - Val Loss: 0.0019\n"
          ]
        },
        {
          "metadata": {
            "tags": null
          },
          "name": "stderr",
          "output_type": "stream",
          "text": [
            "Epoch 33: 100%|██████████| 9/9 [01:16<00:00,  8.45s/it]\n",
            "Validation: 100%|██████████| 2/2 [00:03<00:00,  1.81s/it]\n"
          ]
        },
        {
          "metadata": {
            "tags": null
          },
          "name": "stdout",
          "output_type": "stream",
          "text": [
            "Epoch 33 - Train Loss: 0.0093 - Val Loss: 0.0019\n"
          ]
        },
        {
          "metadata": {
            "tags": null
          },
          "name": "stderr",
          "output_type": "stream",
          "text": [
            "Epoch 34: 100%|██████████| 9/9 [01:13<00:00,  8.20s/it]\n",
            "Validation: 100%|██████████| 2/2 [00:03<00:00,  1.82s/it]\n"
          ]
        },
        {
          "metadata": {
            "tags": null
          },
          "name": "stdout",
          "output_type": "stream",
          "text": [
            "Epoch 34 - Train Loss: 0.0108 - Val Loss: 0.0017\n"
          ]
        },
        {
          "metadata": {
            "tags": null
          },
          "name": "stderr",
          "output_type": "stream",
          "text": [
            "Epoch 35: 100%|██████████| 9/9 [01:14<00:00,  8.26s/it]\n",
            "Validation: 100%|██████████| 2/2 [00:04<00:00,  2.07s/it]\n"
          ]
        },
        {
          "metadata": {
            "tags": null
          },
          "name": "stdout",
          "output_type": "stream",
          "text": [
            "Epoch 35 - Train Loss: 0.0079 - Val Loss: 0.0018\n"
          ]
        },
        {
          "metadata": {
            "tags": null
          },
          "name": "stderr",
          "output_type": "stream",
          "text": [
            "Epoch 36: 100%|██████████| 9/9 [01:13<00:00,  8.16s/it]\n",
            "Validation: 100%|██████████| 2/2 [00:04<00:00,  2.39s/it]\n"
          ]
        },
        {
          "metadata": {
            "tags": null
          },
          "name": "stdout",
          "output_type": "stream",
          "text": [
            "Epoch 36 - Train Loss: 0.0092 - Val Loss: 0.0016\n"
          ]
        },
        {
          "metadata": {
            "tags": null
          },
          "name": "stderr",
          "output_type": "stream",
          "text": [
            "Epoch 37: 100%|██████████| 9/9 [01:23<00:00,  9.31s/it]\n",
            "Validation: 100%|██████████| 2/2 [00:03<00:00,  1.79s/it]\n"
          ]
        },
        {
          "metadata": {
            "tags": null
          },
          "name": "stdout",
          "output_type": "stream",
          "text": [
            "Epoch 37 - Train Loss: 0.0148 - Val Loss: 0.0015\n"
          ]
        },
        {
          "metadata": {
            "tags": null
          },
          "name": "stderr",
          "output_type": "stream",
          "text": [
            "Epoch 38: 100%|██████████| 9/9 [01:14<00:00,  8.27s/it]\n",
            "Validation: 100%|██████████| 2/2 [00:03<00:00,  1.83s/it]\n"
          ]
        },
        {
          "metadata": {
            "tags": null
          },
          "name": "stdout",
          "output_type": "stream",
          "text": [
            "Epoch 38 - Train Loss: 0.0071 - Val Loss: 0.0015\n"
          ]
        },
        {
          "metadata": {
            "tags": null
          },
          "name": "stderr",
          "output_type": "stream",
          "text": [
            "Epoch 39: 100%|██████████| 9/9 [01:22<00:00,  9.13s/it]\n",
            "Validation: 100%|██████████| 2/2 [00:04<00:00,  2.42s/it]\n"
          ]
        },
        {
          "metadata": {
            "tags": null
          },
          "name": "stdout",
          "output_type": "stream",
          "text": [
            "Epoch 39 - Train Loss: 0.0084 - Val Loss: 0.0015\n"
          ]
        },
        {
          "metadata": {
            "tags": null
          },
          "name": "stderr",
          "output_type": "stream",
          "text": [
            "Epoch 40: 100%|██████████| 9/9 [01:15<00:00,  8.35s/it]\n",
            "Validation: 100%|██████████| 2/2 [00:04<00:00,  2.43s/it]\n"
          ]
        },
        {
          "metadata": {
            "tags": null
          },
          "name": "stdout",
          "output_type": "stream",
          "text": [
            "Epoch 40 - Train Loss: 0.0076 - Val Loss: 0.0014\n"
          ]
        },
        {
          "metadata": {
            "tags": null
          },
          "name": "stderr",
          "output_type": "stream",
          "text": [
            "Epoch 41: 100%|██████████| 9/9 [01:23<00:00,  9.27s/it]\n",
            "Validation: 100%|██████████| 2/2 [00:03<00:00,  1.81s/it]\n"
          ]
        },
        {
          "metadata": {
            "tags": null
          },
          "name": "stdout",
          "output_type": "stream",
          "text": [
            "Epoch 41 - Train Loss: 0.0061 - Val Loss: 0.0014\n"
          ]
        },
        {
          "metadata": {
            "tags": null
          },
          "name": "stderr",
          "output_type": "stream",
          "text": [
            "Epoch 42: 100%|██████████| 9/9 [01:17<00:00,  8.61s/it]\n",
            "Validation: 100%|██████████| 2/2 [00:03<00:00,  1.81s/it]\n"
          ]
        },
        {
          "metadata": {
            "tags": null
          },
          "name": "stdout",
          "output_type": "stream",
          "text": [
            "Epoch 42 - Train Loss: 0.0064 - Val Loss: 0.0013\n"
          ]
        },
        {
          "metadata": {
            "tags": null
          },
          "name": "stderr",
          "output_type": "stream",
          "text": [
            "Epoch 43: 100%|██████████| 9/9 [01:17<00:00,  8.57s/it]\n",
            "Validation: 100%|██████████| 2/2 [00:03<00:00,  1.81s/it]\n"
          ]
        },
        {
          "metadata": {
            "tags": null
          },
          "name": "stdout",
          "output_type": "stream",
          "text": [
            "Epoch 43 - Train Loss: 0.0072 - Val Loss: 0.0012\n"
          ]
        },
        {
          "metadata": {
            "tags": null
          },
          "name": "stderr",
          "output_type": "stream",
          "text": [
            "Epoch 44: 100%|██████████| 9/9 [01:21<00:00,  9.02s/it]\n",
            "Validation: 100%|██████████| 2/2 [00:04<00:00,  2.29s/it]\n"
          ]
        },
        {
          "metadata": {
            "tags": null
          },
          "name": "stdout",
          "output_type": "stream",
          "text": [
            "Epoch 44 - Train Loss: 0.0058 - Val Loss: 0.0013\n"
          ]
        },
        {
          "metadata": {
            "tags": null
          },
          "name": "stderr",
          "output_type": "stream",
          "text": [
            "Epoch 45: 100%|██████████| 9/9 [01:18<00:00,  8.75s/it]\n",
            "Validation: 100%|██████████| 2/2 [00:03<00:00,  1.76s/it]\n"
          ]
        },
        {
          "metadata": {
            "tags": null
          },
          "name": "stdout",
          "output_type": "stream",
          "text": [
            "Epoch 45 - Train Loss: 0.0074 - Val Loss: 0.0011\n"
          ]
        },
        {
          "metadata": {
            "tags": null
          },
          "name": "stderr",
          "output_type": "stream",
          "text": [
            "Epoch 46: 100%|██████████| 9/9 [01:09<00:00,  7.71s/it]\n",
            "Validation: 100%|██████████| 2/2 [00:04<00:00,  2.09s/it]\n"
          ]
        },
        {
          "metadata": {
            "tags": null
          },
          "name": "stdout",
          "output_type": "stream",
          "text": [
            "Epoch 46 - Train Loss: 0.0068 - Val Loss: 0.0011\n"
          ]
        },
        {
          "metadata": {
            "tags": null
          },
          "name": "stderr",
          "output_type": "stream",
          "text": [
            "Epoch 47: 100%|██████████| 9/9 [01:13<00:00,  8.20s/it]\n",
            "Validation: 100%|██████████| 2/2 [00:03<00:00,  1.80s/it]\n"
          ]
        },
        {
          "metadata": {
            "tags": null
          },
          "name": "stdout",
          "output_type": "stream",
          "text": [
            "Epoch 47 - Train Loss: 0.0059 - Val Loss: 0.0011\n"
          ]
        },
        {
          "metadata": {
            "tags": null
          },
          "name": "stderr",
          "output_type": "stream",
          "text": [
            "Epoch 48: 100%|██████████| 9/9 [01:16<00:00,  8.45s/it]\n",
            "Validation: 100%|██████████| 2/2 [00:03<00:00,  1.78s/it]\n"
          ]
        },
        {
          "metadata": {
            "tags": null
          },
          "name": "stdout",
          "output_type": "stream",
          "text": [
            "Epoch 48 - Train Loss: 0.0073 - Val Loss: 0.0010\n"
          ]
        },
        {
          "metadata": {
            "tags": null
          },
          "name": "stderr",
          "output_type": "stream",
          "text": [
            "Epoch 49: 100%|██████████| 9/9 [01:21<00:00,  9.06s/it]\n",
            "Validation: 100%|██████████| 2/2 [00:04<00:00,  2.45s/it]\n"
          ]
        },
        {
          "metadata": {
            "tags": null
          },
          "name": "stdout",
          "output_type": "stream",
          "text": [
            "Epoch 49 - Train Loss: 0.0057 - Val Loss: 0.0010\n"
          ]
        },
        {
          "metadata": {
            "tags": null
          },
          "name": "stderr",
          "output_type": "stream",
          "text": [
            "Epoch 50: 100%|██████████| 9/9 [01:23<00:00,  9.26s/it]\n",
            "Validation: 100%|██████████| 2/2 [00:03<00:00,  1.83s/it]\n"
          ]
        },
        {
          "metadata": {
            "tags": null
          },
          "name": "stdout",
          "output_type": "stream",
          "text": [
            "Epoch 50 - Train Loss: 0.0110 - Val Loss: 0.0010\n"
          ]
        },
        {
          "metadata": {
            "tags": null
          },
          "name": "stderr",
          "output_type": "stream",
          "text": [
            "Epoch 51: 100%|██████████| 9/9 [01:20<00:00,  8.93s/it]\n",
            "Validation: 100%|██████████| 2/2 [00:04<00:00,  2.35s/it]\n"
          ]
        },
        {
          "metadata": {
            "tags": null
          },
          "name": "stdout",
          "output_type": "stream",
          "text": [
            "Epoch 51 - Train Loss: 0.0053 - Val Loss: 0.0010\n"
          ]
        },
        {
          "metadata": {
            "tags": null
          },
          "name": "stderr",
          "output_type": "stream",
          "text": [
            "Epoch 52: 100%|██████████| 9/9 [01:14<00:00,  8.24s/it]\n",
            "Validation: 100%|██████████| 2/2 [00:03<00:00,  1.95s/it]\n"
          ]
        },
        {
          "metadata": {
            "tags": null
          },
          "name": "stdout",
          "output_type": "stream",
          "text": [
            "Epoch 52 - Train Loss: 0.0064 - Val Loss: 0.0010\n"
          ]
        },
        {
          "metadata": {
            "tags": null
          },
          "name": "stderr",
          "output_type": "stream",
          "text": [
            "Epoch 53: 100%|██████████| 9/9 [01:18<00:00,  8.68s/it]\n",
            "Validation: 100%|██████████| 2/2 [00:04<00:00,  2.46s/it]\n"
          ]
        },
        {
          "metadata": {
            "tags": null
          },
          "name": "stdout",
          "output_type": "stream",
          "text": [
            "Epoch 53 - Train Loss: 0.0061 - Val Loss: 0.0010\n"
          ]
        },
        {
          "metadata": {
            "tags": null
          },
          "name": "stderr",
          "output_type": "stream",
          "text": [
            "Epoch 54: 100%|██████████| 9/9 [01:18<00:00,  8.68s/it]\n",
            "Validation: 100%|██████████| 2/2 [00:04<00:00,  2.01s/it]\n"
          ]
        },
        {
          "metadata": {
            "tags": null
          },
          "name": "stdout",
          "output_type": "stream",
          "text": [
            "Epoch 54 - Train Loss: 0.0066 - Val Loss: 0.0009\n"
          ]
        },
        {
          "metadata": {
            "tags": null
          },
          "name": "stderr",
          "output_type": "stream",
          "text": [
            "Epoch 55: 100%|██████████| 9/9 [01:18<00:00,  8.68s/it]\n",
            "Validation: 100%|██████████| 2/2 [00:03<00:00,  1.75s/it]\n"
          ]
        },
        {
          "metadata": {
            "tags": null
          },
          "name": "stdout",
          "output_type": "stream",
          "text": [
            "Epoch 55 - Train Loss: 0.0059 - Val Loss: 0.0009\n"
          ]
        },
        {
          "metadata": {
            "tags": null
          },
          "name": "stderr",
          "output_type": "stream",
          "text": [
            "Epoch 56: 100%|██████████| 9/9 [01:16<00:00,  8.51s/it]\n",
            "Validation: 100%|██████████| 2/2 [00:03<00:00,  1.80s/it]\n"
          ]
        },
        {
          "metadata": {
            "tags": null
          },
          "name": "stdout",
          "output_type": "stream",
          "text": [
            "Epoch 56 - Train Loss: 0.0069 - Val Loss: 0.0009\n"
          ]
        },
        {
          "metadata": {
            "tags": null
          },
          "name": "stderr",
          "output_type": "stream",
          "text": [
            "Epoch 57: 100%|██████████| 9/9 [01:22<00:00,  9.22s/it]\n",
            "Validation: 100%|██████████| 2/2 [00:04<00:00,  2.22s/it]\n"
          ]
        },
        {
          "metadata": {
            "tags": null
          },
          "name": "stdout",
          "output_type": "stream",
          "text": [
            "Epoch 57 - Train Loss: 0.0049 - Val Loss: 0.0009\n"
          ]
        },
        {
          "output_type": "stream",
          "name": "stderr",
          "text": [
            "Epoch 58: 100%|██████████| 9/9 [01:20<00:00,  8.98s/it]\n",
            "Validation: 100%|██████████| 2/2 [00:03<00:00,  1.91s/it]\n"
          ]
        },
        {
          "output_type": "stream",
          "name": "stdout",
          "text": [
            "Epoch 58 - Train Loss: 0.0082 - Val Loss: 0.0008\n"
          ]
        },
        {
          "output_type": "stream",
          "name": "stderr",
          "text": [
            "Epoch 59: 100%|██████████| 9/9 [01:17<00:00,  8.61s/it]\n",
            "Validation: 100%|██████████| 2/2 [00:03<00:00,  1.83s/it]\n"
          ]
        },
        {
          "output_type": "stream",
          "name": "stdout",
          "text": [
            "Epoch 59 - Train Loss: 0.0064 - Val Loss: 0.0010\n"
          ]
        },
        {
          "output_type": "stream",
          "name": "stderr",
          "text": [
            "Epoch 60: 100%|██████████| 9/9 [01:17<00:00,  8.64s/it]\n",
            "Validation: 100%|██████████| 2/2 [00:03<00:00,  1.80s/it]\n"
          ]
        },
        {
          "output_type": "stream",
          "name": "stdout",
          "text": [
            "Epoch 60 - Train Loss: 0.0076 - Val Loss: 0.0008\n"
          ]
        },
        {
          "output_type": "stream",
          "name": "stderr",
          "text": [
            "Epoch 61: 100%|██████████| 9/9 [01:17<00:00,  8.66s/it]\n",
            "Validation: 100%|██████████| 2/2 [00:03<00:00,  1.87s/it]\n"
          ]
        },
        {
          "output_type": "stream",
          "name": "stdout",
          "text": [
            "Epoch 61 - Train Loss: 0.0048 - Val Loss: 0.0008\n"
          ]
        },
        {
          "output_type": "stream",
          "name": "stderr",
          "text": [
            "Epoch 62: 100%|██████████| 9/9 [01:18<00:00,  8.73s/it]\n",
            "Validation: 100%|██████████| 2/2 [00:03<00:00,  1.83s/it]\n"
          ]
        },
        {
          "output_type": "stream",
          "name": "stdout",
          "text": [
            "Epoch 62 - Train Loss: 0.0052 - Val Loss: 0.0008\n"
          ]
        },
        {
          "output_type": "stream",
          "name": "stderr",
          "text": [
            "Epoch 63: 100%|██████████| 9/9 [01:15<00:00,  8.44s/it]\n",
            "Validation: 100%|██████████| 2/2 [00:03<00:00,  1.80s/it]\n"
          ]
        },
        {
          "output_type": "stream",
          "name": "stdout",
          "text": [
            "Epoch 63 - Train Loss: 0.0050 - Val Loss: 0.0008\n"
          ]
        },
        {
          "output_type": "stream",
          "name": "stderr",
          "text": [
            "Epoch 64: 100%|██████████| 9/9 [01:22<00:00,  9.16s/it]\n",
            "Validation: 100%|██████████| 2/2 [00:04<00:00,  2.21s/it]\n"
          ]
        },
        {
          "output_type": "stream",
          "name": "stdout",
          "text": [
            "Epoch 64 - Train Loss: 0.0055 - Val Loss: 0.0008\n"
          ]
        },
        {
          "output_type": "stream",
          "name": "stderr",
          "text": [
            "Epoch 65: 100%|██████████| 9/9 [01:22<00:00,  9.19s/it]\n",
            "Validation: 100%|██████████| 2/2 [00:03<00:00,  1.81s/it]\n"
          ]
        },
        {
          "output_type": "stream",
          "name": "stdout",
          "text": [
            "Epoch 65 - Train Loss: 0.0048 - Val Loss: 0.0007\n"
          ]
        },
        {
          "output_type": "stream",
          "name": "stderr",
          "text": [
            "Epoch 66:  56%|█████▌    | 5/9 [00:41<00:32,  8.14s/it]"
          ]
        }
      ]
    },
    {
      "cell_type": "code",
      "source": [
        "formatted_testset = process_dataset(testset)\n",
        "\n",
        "test_dataloader = DataLoader(formatted_testset, batch_size=32, shuffle=False, collate_fn=lambda x: dict(\n",
        "    input_ids=pad_sequence([torch.tensor(example['input_ids']) for example in x], batch_first=True),\n",
        "    attention_mask=pad_sequence([torch.tensor(example['attention_mask']) for example in x], batch_first=True),\n",
        "    labels=pad_sequence([torch.tensor([label_map[label] for label in example['labels']]) for example in x], batch_first=True)\n",
        "))"
      ],
      "metadata": {
        "id": "exk1CiN-5jht"
      },
      "execution_count": null,
      "outputs": []
    },
    {
      "cell_type": "code",
      "source": [
        "from sklearn.metrics import accuracy_score, precision_score\n",
        "\n",
        "# Evaluation loop for the test set\n",
        "model.eval()\n",
        "predictions = []\n",
        "test_loss = 0.0\n",
        "actual_flat = []\n",
        "\n",
        "with torch.no_grad():\n",
        "    for batch in tqdm(test_dataloader, desc=\"Testing\"):\n",
        "        input_ids = batch[\"input_ids\"].to(device)\n",
        "        attention_mask = batch[\"attention_mask\"].to(device)\n",
        "        labels = batch[\"labels\"].to(device)\n",
        "\n",
        "        outputs = model(input_ids=input_ids, attention_mask=attention_mask, labels=labels)\n",
        "        loss = outputs.loss\n",
        "        logits = outputs.logits\n",
        "        predicted_labels = torch.argmax(logits, dim=2)\n",
        "\n",
        "        test_loss += loss.item()\n",
        "\n",
        "        for i in range(predicted_labels.shape[0]):\n",
        "            predicted_label_ids = predicted_labels[i][attention_mask[i] == 1].tolist()\n",
        "            predicted_labels_str = [list(label_map.keys())[label_id] for label_id in predicted_label_ids]\n",
        "            predictions.append(predicted_labels_str)\n",
        "            actual_labels = process_dataset([testset[i]])\n",
        "            actual_flat += actual_labels[0]['labels']\n",
        "\n",
        "# Calculate average loss\n",
        "test_loss /= len(test_dataloader)\n",
        "\n",
        "# Convert the predicted labels and actual labels to flat lists\n",
        "predicted_flat = [label for prediction in predictions for label in prediction]\n",
        "\n",
        "# Calculate accuracy and precision\n",
        "accuracy = accuracy_score(actual_flat, predicted_flat)\n",
        "precision = precision_score(actual_flat, predicted_flat, average='micro')\n",
        "\n",
        "# Print the test loss, accuracy, and precision\n",
        "print(\"Test Loss:\", test_loss)\n",
        "print(\"Accuracy:\", accuracy)\n",
        "print(\"Precision:\", precision)\n",
        "\n",
        "# Print the predictions and actual labels for the test set\n",
        "for i, prediction in enumerate(predictions):\n",
        "    actual_labels = process_dataset([testset[i]])\n",
        "    actual_labels = actual_labels[0]['labels']\n",
        "    sentence = testset[i][0]\n",
        "\n",
        "    print(\"Sentence:\", sentence)\n",
        "    print(\"Predicted Labels:\", prediction)\n",
        "    print(\"Actual Labels:\", actual_labels)\n",
        "    print()\n"
      ],
      "metadata": {
        "colab": {
          "base_uri": "https://localhost:8080/"
        },
        "id": "3LnF90WNRq2i",
        "outputId": "05f823f3-8f45-44e9-e9f5-6ec7cec8db0d"
      },
      "execution_count": null,
      "outputs": [
        {
          "output_type": "stream",
          "name": "stderr",
          "text": [
            "Testing: 100%|██████████| 1/1 [00:00<00:00,  1.42it/s]"
          ]
        },
        {
          "output_type": "stream",
          "name": "stdout",
          "text": [
            "Test Loss: 0.003097509266808629\n",
            "Accuracy: 1.0\n",
            "Precision: 1.0\n",
            "Sentence: ALICE JONES, 35 YEARS OLD, FEMALE\n",
            "Predicted Labels: ['B-NAME', 'I-NAME', 'O', 'B-AGE', 'O', 'O', 'O', 'B-SEX']\n",
            "Actual Labels: ['B-NAME', 'I-NAME', 'O', 'B-AGE', 'O', 'O', 'O', 'B-SEX']\n",
            "\n",
            "Sentence: PETER SMITH, 42YRS M L-P A\n",
            "Predicted Labels: ['B-NAME', 'I-NAME', 'O', 'B-AGE', 'I-AGE', 'I-AGE', 'B-SEX', 'O', 'O', 'O', 'O']\n",
            "Actual Labels: ['B-NAME', 'I-NAME', 'O', 'B-AGE', 'I-AGE', 'I-AGE', 'B-SEX', 'O', 'O', 'O', 'O']\n",
            "\n",
            "Sentence: LUCY WILLIAMS, 28 YEARS OLD, FEMALE\n",
            "Predicted Labels: ['B-NAME', 'I-NAME', 'O', 'B-AGE', 'O', 'O', 'O', 'B-SEX']\n",
            "Actual Labels: ['B-NAME', 'I-NAME', 'O', 'B-AGE', 'O', 'O', 'O', 'B-SEX']\n",
            "\n",
            "Sentence: ROBERT JOHNSON, 55YRS M L-P A\n",
            "Predicted Labels: ['B-NAME', 'I-NAME', 'O', 'B-AGE', 'I-AGE', 'I-AGE', 'B-SEX', 'O', 'O', 'O', 'O']\n",
            "Actual Labels: ['B-NAME', 'I-NAME', 'O', 'B-AGE', 'I-AGE', 'I-AGE', 'B-SEX', 'O', 'O', 'O', 'O']\n",
            "\n",
            "Sentence: OLIVIA DAVIS, 31 YEARS OLD, FEMALE\n",
            "Predicted Labels: ['B-NAME', 'I-NAME', 'O', 'B-AGE', 'O', 'O', 'O', 'B-SEX']\n",
            "Actual Labels: ['B-NAME', 'I-NAME', 'O', 'B-AGE', 'O', 'O', 'O', 'B-SEX']\n",
            "\n",
            "Sentence: MICHELLE THOMAS, 48YRS F L-P A\n",
            "Predicted Labels: ['B-NAME', 'I-NAME', 'O', 'B-AGE', 'I-AGE', 'I-AGE', 'B-SEX', 'O', 'O', 'O', 'O']\n",
            "Actual Labels: ['B-NAME', 'I-NAME', 'O', 'B-AGE', 'I-AGE', 'I-AGE', 'B-SEX', 'O', 'O', 'O', 'O']\n",
            "\n",
            "Sentence: BRIAN WILSON, 40 YEARS OLD, MALE\n",
            "Predicted Labels: ['B-NAME', 'I-NAME', 'O', 'B-AGE', 'O', 'O', 'O', 'B-SEX']\n",
            "Actual Labels: ['B-NAME', 'I-NAME', 'O', 'B-AGE', 'O', 'O', 'O', 'B-SEX']\n",
            "\n",
            "Sentence: EMMA HARRIS, 27YRS F L-P A\n",
            "Predicted Labels: ['B-NAME', 'I-NAME', 'O', 'B-AGE', 'I-AGE', 'I-AGE', 'B-SEX', 'O', 'O', 'O', 'O']\n",
            "Actual Labels: ['B-NAME', 'I-NAME', 'O', 'B-AGE', 'I-AGE', 'I-AGE', 'B-SEX', 'O', 'O', 'O', 'O']\n",
            "\n",
            "Sentence: CHRISTOPHER CLARK, 50 YEARS OLD, MALE\n",
            "Predicted Labels: ['B-NAME', 'I-NAME', 'O', 'B-AGE', 'O', 'O', 'O', 'B-SEX']\n",
            "Actual Labels: ['B-NAME', 'I-NAME', 'O', 'B-AGE', 'O', 'O', 'O', 'B-SEX']\n",
            "\n",
            "Sentence: SOPHIA MARTIN, 33YRS F L-P A\n",
            "Predicted Labels: ['B-NAME', 'I-NAME', 'O', 'B-AGE', 'I-AGE', 'I-AGE', 'B-SEX', 'O', 'O', 'O', 'O']\n",
            "Actual Labels: ['B-NAME', 'I-NAME', 'O', 'B-AGE', 'I-AGE', 'I-AGE', 'B-SEX', 'O', 'O', 'O', 'O']\n",
            "\n"
          ]
        },
        {
          "output_type": "stream",
          "name": "stderr",
          "text": [
            "\n"
          ]
        }
      ]
    },
    {
      "cell_type": "code",
      "source": [
        "from transformers import BertForTokenClassification, BertConfig\n",
        "\n",
        "# Save the model\n",
        "output_dir = \"./\"\n",
        "model.save_pretrained(output_dir)\n",
        "\n",
        "# Load the saved model for inference\n",
        "model = BertForTokenClassification.from_pretrained(output_dir, num_labels=num_labels)\n",
        "\n",
        "# New sentences for inference\n",
        "sentences = [\"KOFI MANU IS 14YRS OLD.\", \"ADRIAN 43YRS F.\"]\n",
        "\n",
        "# Tokenize and convert sentences to input features\n",
        "encoded_inputs = tokenizer(sentences, padding=True, truncation=True, return_tensors=\"pt\")\n",
        "\n",
        "# Move input tensors to the device\n",
        "input_ids = encoded_inputs[\"input_ids\"].to(device)\n",
        "attention_mask = encoded_inputs[\"attention_mask\"].to(device)\n",
        "\n",
        "# Inference\n",
        "model.eval()\n",
        "with torch.no_grad():\n",
        "    outputs = model(input_ids=input_ids, attention_mask=attention_mask)\n",
        "    logits = outputs.logits\n",
        "    predicted_labels = torch.argmax(logits, dim=2)\n",
        "\n",
        "# Convert predicted labels to string labels\n",
        "predicted_labels = [list(label_map.keys())[label_id] for label_id in predicted_labels[0]]\n",
        "\n",
        "# Print the predicted labels for each sentence\n",
        "for sentence, labels in zip(sentences, predicted_labels):\n",
        "    print(\"Sentence:\", sentence)\n",
        "    print(\"Predicted Labels:\", labels)\n",
        "    print()"
      ],
      "metadata": {
        "colab": {
          "base_uri": "https://localhost:8080/"
        },
        "id": "NV48q8nwfAHA",
        "outputId": "ad03981a-84cc-4c86-8032-acd613ffaaa0"
      },
      "execution_count": null,
      "outputs": [
        {
          "output_type": "stream",
          "name": "stdout",
          "text": [
            "Sentence: KOFI MANU IS 14YRS OLD.\n",
            "Predicted Labels: B-NAME\n",
            "\n",
            "Sentence: ADRIAN 43YRS F.\n",
            "Predicted Labels: I-NAME\n",
            "\n"
          ]
        }
      ]
    },
    {
      "cell_type": "code",
      "source": [],
      "metadata": {
        "id": "JdpHAK0QxcBF"
      },
      "execution_count": null,
      "outputs": []
    }
  ],
  "metadata": {
    "colab": {
      "provenance": []
    },
    "kernelspec": {
      "display_name": "Python 3",
      "name": "python3"
    },
    "language_info": {
      "name": "python"
    }
  },
  "nbformat": 4,
  "nbformat_minor": 0
}